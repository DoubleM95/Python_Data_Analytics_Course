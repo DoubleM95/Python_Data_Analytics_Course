{
 "cells": [
  {
   "cell_type": "markdown",
   "id": "5c289cc9",
   "metadata": {},
   "source": [
    "<a target=\"_blank\" href=\"https://colab.research.google.com/github/lukebarousse/Python_Data_Analytics_Course/blob/main/4_Problems/1_10_Sets.ipynb\">\n",
    "  <img src=\"https://colab.research.google.com/assets/colab-badge.svg\" alt=\"Open In Colab\"/>\n",
    "</a>"
   ]
  },
  {
   "cell_type": "markdown",
   "id": "96889df9",
   "metadata": {},
   "source": [
    "## 🟩 Add Job Title to Set (1.10.1)"
   ]
  },
  {
   "cell_type": "code",
   "execution_count": 1,
   "id": "6fb688cc",
   "metadata": {},
   "outputs": [
    {
     "data": {
      "text/plain": [
       "{'AI Specialist',\n",
       " 'Data Analyst',\n",
       " 'Data Scientist',\n",
       " 'Machine Learning Engineer'}"
      ]
     },
     "execution_count": 1,
     "metadata": {},
     "output_type": "execute_result"
    }
   ],
   "source": [
    "# Code Needed\n",
    "unique_job_titles = {'Data Scientist', 'Data Analyst', 'Machine Learning Engineer'}\n",
    "unique_job_titles.add('AI Specialist')\n",
    "unique_job_titles"
   ]
  },
  {
   "cell_type": "markdown",
   "id": "2ce68b60",
   "metadata": {},
   "source": [
    "---"
   ]
  },
  {
   "cell_type": "markdown",
   "id": "88c8936c",
   "metadata": {},
   "source": [
    "## 🟩 Remove Job Title from Set (1.10.2)"
   ]
  },
  {
   "cell_type": "code",
   "execution_count": 2,
   "id": "dd12611a",
   "metadata": {},
   "outputs": [
    {
     "data": {
      "text/plain": [
       "{'Data Scientist', 'Machine Learning Engineer'}"
      ]
     },
     "execution_count": 2,
     "metadata": {},
     "output_type": "execute_result"
    }
   ],
   "source": [
    "# Code Needed\n",
    "unique_job_titles = {'Data Scientist', 'Data Analyst', 'Machine Learning Engineer'}\n",
    "unique_job_titles.remove('Data Analyst')\n",
    "unique_job_titles"
   ]
  },
  {
   "cell_type": "markdown",
   "id": "4c803884",
   "metadata": {},
   "source": [
    "---"
   ]
  },
  {
   "cell_type": "markdown",
   "id": "ec940385",
   "metadata": {},
   "source": [
    "## 🟩 Create Unique Job Locations Set (1.10.3)"
   ]
  },
  {
   "cell_type": "code",
   "execution_count": 3,
   "id": "fd7983e1",
   "metadata": {},
   "outputs": [
    {
     "data": {
      "text/plain": [
       "{'Austin', 'New York', 'San Francisco'}"
      ]
     },
     "execution_count": 3,
     "metadata": {},
     "output_type": "execute_result"
    }
   ],
   "source": [
    "# Code Needed\n",
    "job_locations = ['New York', 'San Francisco', 'New York', 'Austin', 'San Francisco']\n",
    "\n",
    "unique_job_locations = set(job_locations)\n",
    "unique_job_locations"
   ]
  },
  {
   "cell_type": "markdown",
   "id": "bfac45d1",
   "metadata": {},
   "source": [
    "---"
   ]
  },
  {
   "cell_type": "markdown",
   "id": "910d6bab",
   "metadata": {},
   "source": [
    "## 🟨 Union of Job Skills Sets (1.10.4)"
   ]
  },
  {
   "cell_type": "code",
   "execution_count": 4,
   "id": "75ba0d0c",
   "metadata": {},
   "outputs": [
    {
     "data": {
      "text/plain": [
       "{'Machine Learning', 'Python', 'R', 'SQL', 'Tableau'}"
      ]
     },
     "execution_count": 4,
     "metadata": {},
     "output_type": "execute_result"
    }
   ],
   "source": [
    "# Code Needed\n",
    "skills_set1 = {'Python', 'SQL', 'Tableau'}\n",
    "skills_set2 = {'R', 'SQL', 'Machine Learning'}\n",
    "\n",
    "set.union(skills_set1, skills_set2)"
   ]
  },
  {
   "cell_type": "markdown",
   "id": "55d254da",
   "metadata": {},
   "source": [
    "---"
   ]
  }
 ],
 "metadata": {
  "kernelspec": {
   "display_name": "Python 3",
   "language": "python",
   "name": "python3"
  },
  "language_info": {
   "codemirror_mode": {
    "name": "ipython",
    "version": 3
   },
   "file_extension": ".py",
   "mimetype": "text/x-python",
   "name": "python",
   "nbconvert_exporter": "python",
   "pygments_lexer": "ipython3",
   "version": "3.12.5"
  }
 },
 "nbformat": 4,
 "nbformat_minor": 5
}
