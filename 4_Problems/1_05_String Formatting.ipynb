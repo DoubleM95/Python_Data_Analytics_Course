{
 "cells": [
  {
   "cell_type": "markdown",
   "id": "707277df",
   "metadata": {},
   "source": [
    "<a target=\"_blank\" href=\"https://colab.research.google.com/github/lukebarousse/Python_Data_Analytics_Course/blob/main/4_Problems/1_05_String Formatting.ipynb\">\n",
    "  <img src=\"https://colab.research.google.com/assets/colab-badge.svg\" alt=\"Open In Colab\"/>\n",
    "</a>"
   ]
  },
  {
   "cell_type": "markdown",
   "id": "33249ddd",
   "metadata": {},
   "source": [
    "## 🟩 Concatenate Strings (1.5.1)"
   ]
  },
  {
   "cell_type": "code",
   "execution_count": 4,
   "id": "f5eb44b1",
   "metadata": {},
   "outputs": [
    {
     "data": {
      "text/plain": [
       "'Job Title: Data Scientist'"
      ]
     },
     "execution_count": 4,
     "metadata": {},
     "output_type": "execute_result"
    }
   ],
   "source": [
    "# Code Needed\n",
    "job_title = 'Data Scientist'\n",
    "result = 'Job Title: ' + job_title\n",
    "result"
   ]
  },
  {
   "cell_type": "markdown",
   "id": "ceadadd2",
   "metadata": {},
   "source": [
    "---"
   ]
  },
  {
   "cell_type": "markdown",
   "id": "4b752a3b",
   "metadata": {},
   "source": [
    "## 🟩 Format with f-strings (1.5.2)"
   ]
  },
  {
   "cell_type": "code",
   "execution_count": 6,
   "id": "f1dd6630",
   "metadata": {},
   "outputs": [
    {
     "data": {
      "text/plain": [
       "'Data Scientist at DataWiz Inc.'"
      ]
     },
     "execution_count": 6,
     "metadata": {},
     "output_type": "execute_result"
    }
   ],
   "source": [
    "# Code Needed\n",
    "position = 'Data Scientist'\n",
    "company = 'DataWiz Inc.'\n",
    "f'{position} at {company}'"
   ]
  },
  {
   "cell_type": "markdown",
   "id": "f3b9b437",
   "metadata": {},
   "source": [
    "---"
   ]
  },
  {
   "cell_type": "markdown",
   "id": "7ccbfb33",
   "metadata": {},
   "source": [
    "## 🟩 Format with str.format() (1.5.3)"
   ]
  },
  {
   "cell_type": "code",
   "execution_count": 9,
   "id": "3ad6287a",
   "metadata": {},
   "outputs": [
    {
     "data": {
      "text/plain": [
       "'Role: Data Analyst, Skill: Python'"
      ]
     },
     "execution_count": 9,
     "metadata": {},
     "output_type": "execute_result"
    }
   ],
   "source": [
    "# Code Needed\n",
    "role = 'Data Analyst'\n",
    "skill = 'Python'\n",
    "\n",
    "'Role: {role}, Skill: {skill}'.format(role=role, skill=skill)"
   ]
  },
  {
   "cell_type": "markdown",
   "id": "553e97a6",
   "metadata": {},
   "source": [
    "---"
   ]
  },
  {
   "cell_type": "markdown",
   "id": "2539859a",
   "metadata": {},
   "source": [
    "## 🟨 Format with %-formatting (1.5.4)"
   ]
  },
  {
   "cell_type": "code",
   "execution_count": 15,
   "id": "88cfb9fa",
   "metadata": {},
   "outputs": [
    {
     "data": {
      "text/plain": [
       "'Role: Data Engineer, Skill: SQL'"
      ]
     },
     "execution_count": 15,
     "metadata": {},
     "output_type": "execute_result"
    }
   ],
   "source": [
    "# Code Needed\n",
    "role = 'Data Engineer'\n",
    "skill = 'SQL'\n",
    "\n",
    "'Role: %s, Skill: %s' %(role, skill)"
   ]
  },
  {
   "cell_type": "markdown",
   "id": "d6081ce3",
   "metadata": {},
   "source": [
    "---"
   ]
  }
 ],
 "metadata": {
  "kernelspec": {
   "display_name": "Python 3",
   "language": "python",
   "name": "python3"
  },
  "language_info": {
   "codemirror_mode": {
    "name": "ipython",
    "version": 3
   },
   "file_extension": ".py",
   "mimetype": "text/x-python",
   "name": "python",
   "nbconvert_exporter": "python",
   "pygments_lexer": "ipython3",
   "version": "3.12.5"
  }
 },
 "nbformat": 4,
 "nbformat_minor": 5
}
