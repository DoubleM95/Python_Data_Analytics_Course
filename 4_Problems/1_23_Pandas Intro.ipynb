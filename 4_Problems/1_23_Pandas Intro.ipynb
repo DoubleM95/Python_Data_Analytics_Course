{
 "cells": [
  {
   "cell_type": "markdown",
   "id": "cd18f1ad",
   "metadata": {},
   "source": [
    "<a target=\"_blank\" href=\"https://colab.research.google.com/github/lukebarousse/Python_Data_Analytics_Course/blob/main/4_Problems/1_23_Pandas Intro.ipynb\">\n",
    "  <img src=\"https://colab.research.google.com/assets/colab-badge.svg\" alt=\"Open In Colab\"/>\n",
    "</a>"
   ]
  },
  {
   "cell_type": "markdown",
   "id": "8fc69485",
   "metadata": {},
   "source": [
    "## 🟩 Load and Display Last 5 Rows (1.23.1)"
   ]
  },
  {
   "cell_type": "code",
   "execution_count": null,
   "id": "9f57b97a",
   "metadata": {},
   "outputs": [],
   "source": [
    "import pandas as pd\n",
    "from datasets import load_dataset\n",
    "\n",
    "# Loading Data\n",
    "dataset = load_dataset('lukebarousse/data_jobs')\n",
    "df = dataset['train'].to_pandas()"
   ]
  },
  {
   "cell_type": "code",
   "execution_count": 3,
   "id": "d8ec0631",
   "metadata": {},
   "outputs": [
    {
     "data": {
      "application/vnd.microsoft.datawrangler.viewer.v0+json": {
       "columns": [
        {
         "name": "index",
         "rawType": "int64",
         "type": "integer"
        },
        {
         "name": "job_title_short",
         "rawType": "object",
         "type": "string"
        },
        {
         "name": "job_title",
         "rawType": "object",
         "type": "string"
        },
        {
         "name": "job_location",
         "rawType": "object",
         "type": "string"
        },
        {
         "name": "job_via",
         "rawType": "object",
         "type": "string"
        },
        {
         "name": "job_schedule_type",
         "rawType": "object",
         "type": "string"
        },
        {
         "name": "job_work_from_home",
         "rawType": "bool",
         "type": "boolean"
        },
        {
         "name": "search_location",
         "rawType": "object",
         "type": "string"
        },
        {
         "name": "job_posted_date",
         "rawType": "object",
         "type": "string"
        },
        {
         "name": "job_no_degree_mention",
         "rawType": "bool",
         "type": "boolean"
        },
        {
         "name": "job_health_insurance",
         "rawType": "bool",
         "type": "boolean"
        },
        {
         "name": "job_country",
         "rawType": "object",
         "type": "string"
        },
        {
         "name": "salary_rate",
         "rawType": "object",
         "type": "unknown"
        },
        {
         "name": "salary_year_avg",
         "rawType": "float64",
         "type": "float"
        },
        {
         "name": "salary_hour_avg",
         "rawType": "float64",
         "type": "float"
        },
        {
         "name": "company_name",
         "rawType": "object",
         "type": "string"
        },
        {
         "name": "job_skills",
         "rawType": "object",
         "type": "string"
        },
        {
         "name": "job_type_skills",
         "rawType": "object",
         "type": "string"
        }
       ],
       "ref": "1966ceea-23ce-426d-a055-a5215c7dd5a9",
       "rows": [
        [
         "785736",
         "Software Engineer",
         "DevOps Engineer",
         "Singapura",
         "melalui Trabajo.org",
         "Pekerjaan tetap",
         "False",
         "Singapore",
         "2023-03-13 06:16:16",
         "False",
         "False",
         "Singapore",
         null,
         null,
         null,
         "CAREERSTAR INTERNATIONAL PTE. LTD.",
         "['bash', 'python', 'perl', 'linux', 'unix', 'kubernetes', 'docker', 'ansible']",
         "{'os': ['linux', 'unix'], 'other': ['kubernetes', 'docker', 'ansible'], 'programming': ['bash', 'python', 'perl']}"
        ],
        [
         "785737",
         "Data Analyst",
         "CRM Data Analyst",
         "Bad Rodach, Jerman",
         "melalui BeBee Deutschland",
         "Pekerjaan tetap",
         "False",
         "Germany",
         "2023-03-12 06:18:18",
         "False",
         "False",
         "Germany",
         null,
         null,
         null,
         "HABA FAMILYGROUP",
         "['sas', 'sas', 'sql', 'excel']",
         "{'analyst_tools': ['sas', 'excel'], 'programming': ['sas', 'sql']}"
        ],
        [
         "785738",
         "Business Analyst",
         "Commercial Analyst - Start Now",
         "Malaysia",
         "melalui Ricebowl",
         "Pekerjaan tetap",
         "False",
         "Malaysia",
         "2023-03-12 06:32:36",
         "False",
         "False",
         "Malaysia",
         null,
         null,
         null,
         "Lendlease Corporation",
         "['powerpoint', 'excel']",
         "{'analyst_tools': ['powerpoint', 'excel']}"
        ],
        [
         "785739",
         "Data Engineer",
         "Principal Associate, Data Engineer (Remote-Eligible)",
         "Newark, New Jersey, Amerika Serikat",
         "melalui Recruit.net",
         "Pekerjaan tetap",
         "False",
         "Sudan",
         "2023-03-12 06:32:15",
         "False",
         "False",
         "Sudan",
         null,
         null,
         null,
         "Capital One",
         "['python', 'go', 'nosql', 'sql', 'mongo', 'shell', 'mysql', 'cassandra', 'aws', 'snowflake', 'azure', 'redshift', 'spark', 'hadoop', 'kafka', 'kubernetes', 'docker']",
         "{'cloud': ['aws', 'snowflake', 'azure', 'redshift'], 'databases': ['mysql', 'cassandra'], 'libraries': ['spark', 'hadoop', 'kafka'], 'other': ['kubernetes', 'docker'], 'programming': ['python', 'go', 'nosql', 'sql', 'mongo', 'shell']}"
        ],
        [
         "785740",
         "Software Engineer",
         "AWS System Analyst",
         "India",
         "melalui Trigyn",
         "Pekerjaan tetap",
         "False",
         "India",
         "2023-03-13 06:16:31",
         "False",
         "False",
         "India",
         null,
         null,
         null,
         "Trigyn",
         "['aws', 'flow']",
         "{'cloud': ['aws'], 'other': ['flow']}"
        ]
       ],
       "shape": {
        "columns": 17,
        "rows": 5
       }
      },
      "text/html": [
       "<div>\n",
       "<style scoped>\n",
       "    .dataframe tbody tr th:only-of-type {\n",
       "        vertical-align: middle;\n",
       "    }\n",
       "\n",
       "    .dataframe tbody tr th {\n",
       "        vertical-align: top;\n",
       "    }\n",
       "\n",
       "    .dataframe thead th {\n",
       "        text-align: right;\n",
       "    }\n",
       "</style>\n",
       "<table border=\"1\" class=\"dataframe\">\n",
       "  <thead>\n",
       "    <tr style=\"text-align: right;\">\n",
       "      <th></th>\n",
       "      <th>job_title_short</th>\n",
       "      <th>job_title</th>\n",
       "      <th>job_location</th>\n",
       "      <th>job_via</th>\n",
       "      <th>job_schedule_type</th>\n",
       "      <th>job_work_from_home</th>\n",
       "      <th>search_location</th>\n",
       "      <th>job_posted_date</th>\n",
       "      <th>job_no_degree_mention</th>\n",
       "      <th>job_health_insurance</th>\n",
       "      <th>job_country</th>\n",
       "      <th>salary_rate</th>\n",
       "      <th>salary_year_avg</th>\n",
       "      <th>salary_hour_avg</th>\n",
       "      <th>company_name</th>\n",
       "      <th>job_skills</th>\n",
       "      <th>job_type_skills</th>\n",
       "    </tr>\n",
       "  </thead>\n",
       "  <tbody>\n",
       "    <tr>\n",
       "      <th>785736</th>\n",
       "      <td>Software Engineer</td>\n",
       "      <td>DevOps Engineer</td>\n",
       "      <td>Singapura</td>\n",
       "      <td>melalui Trabajo.org</td>\n",
       "      <td>Pekerjaan tetap</td>\n",
       "      <td>False</td>\n",
       "      <td>Singapore</td>\n",
       "      <td>2023-03-13 06:16:16</td>\n",
       "      <td>False</td>\n",
       "      <td>False</td>\n",
       "      <td>Singapore</td>\n",
       "      <td>NaN</td>\n",
       "      <td>NaN</td>\n",
       "      <td>NaN</td>\n",
       "      <td>CAREERSTAR INTERNATIONAL PTE. LTD.</td>\n",
       "      <td>['bash', 'python', 'perl', 'linux', 'unix', 'k...</td>\n",
       "      <td>{'os': ['linux', 'unix'], 'other': ['kubernete...</td>\n",
       "    </tr>\n",
       "    <tr>\n",
       "      <th>785737</th>\n",
       "      <td>Data Analyst</td>\n",
       "      <td>CRM Data Analyst</td>\n",
       "      <td>Bad Rodach, Jerman</td>\n",
       "      <td>melalui BeBee Deutschland</td>\n",
       "      <td>Pekerjaan tetap</td>\n",
       "      <td>False</td>\n",
       "      <td>Germany</td>\n",
       "      <td>2023-03-12 06:18:18</td>\n",
       "      <td>False</td>\n",
       "      <td>False</td>\n",
       "      <td>Germany</td>\n",
       "      <td>NaN</td>\n",
       "      <td>NaN</td>\n",
       "      <td>NaN</td>\n",
       "      <td>HABA FAMILYGROUP</td>\n",
       "      <td>['sas', 'sas', 'sql', 'excel']</td>\n",
       "      <td>{'analyst_tools': ['sas', 'excel'], 'programmi...</td>\n",
       "    </tr>\n",
       "    <tr>\n",
       "      <th>785738</th>\n",
       "      <td>Business Analyst</td>\n",
       "      <td>Commercial Analyst - Start Now</td>\n",
       "      <td>Malaysia</td>\n",
       "      <td>melalui Ricebowl</td>\n",
       "      <td>Pekerjaan tetap</td>\n",
       "      <td>False</td>\n",
       "      <td>Malaysia</td>\n",
       "      <td>2023-03-12 06:32:36</td>\n",
       "      <td>False</td>\n",
       "      <td>False</td>\n",
       "      <td>Malaysia</td>\n",
       "      <td>NaN</td>\n",
       "      <td>NaN</td>\n",
       "      <td>NaN</td>\n",
       "      <td>Lendlease Corporation</td>\n",
       "      <td>['powerpoint', 'excel']</td>\n",
       "      <td>{'analyst_tools': ['powerpoint', 'excel']}</td>\n",
       "    </tr>\n",
       "    <tr>\n",
       "      <th>785739</th>\n",
       "      <td>Data Engineer</td>\n",
       "      <td>Principal Associate, Data Engineer (Remote-Eli...</td>\n",
       "      <td>Newark, New Jersey, Amerika Serikat</td>\n",
       "      <td>melalui Recruit.net</td>\n",
       "      <td>Pekerjaan tetap</td>\n",
       "      <td>False</td>\n",
       "      <td>Sudan</td>\n",
       "      <td>2023-03-12 06:32:15</td>\n",
       "      <td>False</td>\n",
       "      <td>False</td>\n",
       "      <td>Sudan</td>\n",
       "      <td>NaN</td>\n",
       "      <td>NaN</td>\n",
       "      <td>NaN</td>\n",
       "      <td>Capital One</td>\n",
       "      <td>['python', 'go', 'nosql', 'sql', 'mongo', 'she...</td>\n",
       "      <td>{'cloud': ['aws', 'snowflake', 'azure', 'redsh...</td>\n",
       "    </tr>\n",
       "    <tr>\n",
       "      <th>785740</th>\n",
       "      <td>Software Engineer</td>\n",
       "      <td>AWS System Analyst</td>\n",
       "      <td>India</td>\n",
       "      <td>melalui Trigyn</td>\n",
       "      <td>Pekerjaan tetap</td>\n",
       "      <td>False</td>\n",
       "      <td>India</td>\n",
       "      <td>2023-03-13 06:16:31</td>\n",
       "      <td>False</td>\n",
       "      <td>False</td>\n",
       "      <td>India</td>\n",
       "      <td>NaN</td>\n",
       "      <td>NaN</td>\n",
       "      <td>NaN</td>\n",
       "      <td>Trigyn</td>\n",
       "      <td>['aws', 'flow']</td>\n",
       "      <td>{'cloud': ['aws'], 'other': ['flow']}</td>\n",
       "    </tr>\n",
       "  </tbody>\n",
       "</table>\n",
       "</div>"
      ],
      "text/plain": [
       "          job_title_short                                          job_title  \\\n",
       "785736  Software Engineer                                    DevOps Engineer   \n",
       "785737       Data Analyst                                   CRM Data Analyst   \n",
       "785738   Business Analyst                     Commercial Analyst - Start Now   \n",
       "785739      Data Engineer  Principal Associate, Data Engineer (Remote-Eli...   \n",
       "785740  Software Engineer                                 AWS System Analyst   \n",
       "\n",
       "                               job_location                    job_via  \\\n",
       "785736                            Singapura        melalui Trabajo.org   \n",
       "785737                   Bad Rodach, Jerman  melalui BeBee Deutschland   \n",
       "785738                             Malaysia           melalui Ricebowl   \n",
       "785739  Newark, New Jersey, Amerika Serikat        melalui Recruit.net   \n",
       "785740                                India             melalui Trigyn   \n",
       "\n",
       "       job_schedule_type  job_work_from_home search_location  \\\n",
       "785736   Pekerjaan tetap               False       Singapore   \n",
       "785737   Pekerjaan tetap               False         Germany   \n",
       "785738   Pekerjaan tetap               False        Malaysia   \n",
       "785739   Pekerjaan tetap               False           Sudan   \n",
       "785740   Pekerjaan tetap               False           India   \n",
       "\n",
       "            job_posted_date  job_no_degree_mention  job_health_insurance  \\\n",
       "785736  2023-03-13 06:16:16                  False                 False   \n",
       "785737  2023-03-12 06:18:18                  False                 False   \n",
       "785738  2023-03-12 06:32:36                  False                 False   \n",
       "785739  2023-03-12 06:32:15                  False                 False   \n",
       "785740  2023-03-13 06:16:31                  False                 False   \n",
       "\n",
       "       job_country salary_rate  salary_year_avg  salary_hour_avg  \\\n",
       "785736   Singapore         NaN              NaN              NaN   \n",
       "785737     Germany         NaN              NaN              NaN   \n",
       "785738    Malaysia         NaN              NaN              NaN   \n",
       "785739       Sudan         NaN              NaN              NaN   \n",
       "785740       India         NaN              NaN              NaN   \n",
       "\n",
       "                              company_name  \\\n",
       "785736  CAREERSTAR INTERNATIONAL PTE. LTD.   \n",
       "785737                    HABA FAMILYGROUP   \n",
       "785738               Lendlease Corporation   \n",
       "785739                         Capital One   \n",
       "785740                              Trigyn   \n",
       "\n",
       "                                               job_skills  \\\n",
       "785736  ['bash', 'python', 'perl', 'linux', 'unix', 'k...   \n",
       "785737                     ['sas', 'sas', 'sql', 'excel']   \n",
       "785738                            ['powerpoint', 'excel']   \n",
       "785739  ['python', 'go', 'nosql', 'sql', 'mongo', 'she...   \n",
       "785740                                    ['aws', 'flow']   \n",
       "\n",
       "                                          job_type_skills  \n",
       "785736  {'os': ['linux', 'unix'], 'other': ['kubernete...  \n",
       "785737  {'analyst_tools': ['sas', 'excel'], 'programmi...  \n",
       "785738         {'analyst_tools': ['powerpoint', 'excel']}  \n",
       "785739  {'cloud': ['aws', 'snowflake', 'azure', 'redsh...  \n",
       "785740              {'cloud': ['aws'], 'other': ['flow']}  "
      ]
     },
     "execution_count": 3,
     "metadata": {},
     "output_type": "execute_result"
    }
   ],
   "source": [
    "df.tail()"
   ]
  },
  {
   "cell_type": "markdown",
   "id": "71ea4cdc",
   "metadata": {},
   "source": [
    "---"
   ]
  },
  {
   "cell_type": "markdown",
   "id": "b0e36442",
   "metadata": {},
   "source": [
    "## 🟩 Select Job Location Column (1.23.2)"
   ]
  },
  {
   "cell_type": "code",
   "execution_count": 4,
   "id": "9062f032",
   "metadata": {},
   "outputs": [
    {
     "data": {
      "application/vnd.microsoft.datawrangler.viewer.v0+json": {
       "columns": [
        {
         "name": "index",
         "rawType": "int64",
         "type": "integer"
        },
        {
         "name": "job_location",
         "rawType": "object",
         "type": "unknown"
        }
       ],
       "ref": "fa6f225c-1e88-42d9-9f33-75b4e2c15c7a",
       "rows": [
        [
         "0",
         "Watertown, CT"
        ],
        [
         "1",
         "Guadalajara, Jalisco, Mexico"
        ],
        [
         "2",
         "Berlin, Germany"
        ],
        [
         "3",
         "San Antonio, TX"
        ],
        [
         "4",
         "Washington, DC"
        ],
        [
         "5",
         "Anywhere"
        ],
        [
         "6",
         "Dearborn, MI"
        ],
        [
         "7",
         "Anywhere"
        ],
        [
         "8",
         "Copenhagen, Denmark"
        ],
        [
         "9",
         "Anywhere"
        ],
        [
         "10",
         "Basel, Switzerland"
        ],
        [
         "11",
         "Colorado Springs, CO   (+3 others)"
        ],
        [
         "12",
         "Lyon, France"
        ],
        [
         "13",
         "New York, NY"
        ],
        [
         "14",
         "Rio de Janeiro, State of Rio de Janeiro, Brazil"
        ],
        [
         "15",
         "Aberdeen, UK"
        ],
        [
         "16",
         "Pune, Maharashtra, India"
        ],
        [
         "17",
         "Laurel, MD"
        ],
        [
         "18",
         "Warsaw, Poland"
        ],
        [
         "19",
         "Pune, Maharashtra, India"
        ],
        [
         "20",
         "Zaventem, Belgium"
        ],
        [
         "21",
         "Asnières-sur-Seine, France"
        ],
        [
         "22",
         "Nantes, France"
        ],
        [
         "23",
         "Russia"
        ],
        [
         "24",
         "Anywhere"
        ],
        [
         "25",
         "Singapore"
        ],
        [
         "26",
         "United States"
        ],
        [
         "27",
         "San Francisco, CA"
        ],
        [
         "28",
         "San José Province, San José, Costa Rica"
        ],
        [
         "29",
         "Pune, Maharashtra, India"
        ],
        [
         "30",
         "Wilmington, DE"
        ],
        [
         "31",
         "Paris, France"
        ],
        [
         "32",
         "Dallas, TX"
        ],
        [
         "33",
         "County Westmeath, Ireland"
        ],
        [
         "34",
         "Erlangen, Germany"
        ],
        [
         "35",
         "St Charles, MO"
        ],
        [
         "36",
         "Des Moines, IA"
        ],
        [
         "37",
         "Boston, MA"
        ],
        [
         "38",
         "India"
        ],
        [
         "39",
         "Fort Worth, TX"
        ],
        [
         "40",
         "Alameda, CA"
        ],
        [
         "41",
         "Paris, KY"
        ],
        [
         "42",
         "Chennai, Tamil Nadu, India"
        ],
        [
         "43",
         null
        ],
        [
         "44",
         "Singapore"
        ],
        [
         "45",
         "Leeds, UK"
        ],
        [
         "46",
         "Rome, Metropolitan City of Rome Capital, Italy"
        ],
        [
         "47",
         "Kuala Lumpur, Federal Territory of Kuala Lumpur, Malaysia"
        ],
        [
         "48",
         "Ciudad Nezahualcóyotl, State of Mexico, Mexico"
        ],
        [
         "49",
         "Neuilly-Plaisance, France"
        ]
       ],
       "shape": {
        "columns": 1,
        "rows": 785741
       }
      },
      "text/plain": [
       "0                               Watertown, CT\n",
       "1                Guadalajara, Jalisco, Mexico\n",
       "2                             Berlin, Germany\n",
       "3                             San Antonio, TX\n",
       "4                              Washington, DC\n",
       "                         ...                 \n",
       "785736                              Singapura\n",
       "785737                     Bad Rodach, Jerman\n",
       "785738                               Malaysia\n",
       "785739    Newark, New Jersey, Amerika Serikat\n",
       "785740                                  India\n",
       "Name: job_location, Length: 785741, dtype: object"
      ]
     },
     "execution_count": 4,
     "metadata": {},
     "output_type": "execute_result"
    }
   ],
   "source": [
    "df['job_location']"
   ]
  },
  {
   "cell_type": "markdown",
   "id": "97ef6ba5",
   "metadata": {},
   "source": [
    "---"
   ]
  },
  {
   "cell_type": "markdown",
   "id": "657854a6",
   "metadata": {},
   "source": [
    "## 🟩 Select Search Location Column (1.23.3)"
   ]
  },
  {
   "cell_type": "code",
   "execution_count": 5,
   "id": "3b544269",
   "metadata": {},
   "outputs": [
    {
     "data": {
      "application/vnd.microsoft.datawrangler.viewer.v0+json": {
       "columns": [
        {
         "name": "index",
         "rawType": "int64",
         "type": "integer"
        },
        {
         "name": "search_location",
         "rawType": "object",
         "type": "string"
        }
       ],
       "ref": "38279486-ab8c-4ca8-a6c7-497ec263c44b",
       "rows": [
        [
         "0",
         "Texas, United States"
        ],
        [
         "1",
         "Mexico"
        ],
        [
         "2",
         "Germany"
        ],
        [
         "3",
         "Texas, United States"
        ],
        [
         "4",
         "Sudan"
        ],
        [
         "5",
         "Georgia"
        ],
        [
         "6",
         "Florida, United States"
        ],
        [
         "7",
         "Romania"
        ],
        [
         "8",
         "Denmark"
        ],
        [
         "9",
         "New York, United States"
        ],
        [
         "10",
         "Switzerland"
        ],
        [
         "11",
         "Texas, United States"
        ],
        [
         "12",
         "France"
        ],
        [
         "13",
         "Texas, United States"
        ],
        [
         "14",
         "Brazil"
        ],
        [
         "15",
         "United Kingdom"
        ],
        [
         "16",
         "India"
        ],
        [
         "17",
         "Georgia"
        ],
        [
         "18",
         "Poland"
        ],
        [
         "19",
         "India"
        ],
        [
         "20",
         "Belgium"
        ],
        [
         "21",
         "France"
        ],
        [
         "22",
         "France"
        ],
        [
         "23",
         "Russia"
        ],
        [
         "24",
         "Serbia"
        ],
        [
         "25",
         "Singapore"
        ],
        [
         "26",
         "Georgia"
        ],
        [
         "27",
         "Georgia"
        ],
        [
         "28",
         "Costa Rica"
        ],
        [
         "29",
         "India"
        ],
        [
         "30",
         "Texas, United States"
        ],
        [
         "31",
         "France"
        ],
        [
         "32",
         "Texas, United States"
        ],
        [
         "33",
         "Ireland"
        ],
        [
         "34",
         "Germany"
        ],
        [
         "35",
         "California, United States"
        ],
        [
         "36",
         "Illinois, United States"
        ],
        [
         "37",
         "Illinois, United States"
        ],
        [
         "38",
         "India"
        ],
        [
         "39",
         "Texas, United States"
        ],
        [
         "40",
         "California, United States"
        ],
        [
         "41",
         "Georgia"
        ],
        [
         "42",
         "India"
        ],
        [
         "43",
         "Texas, United States"
        ],
        [
         "44",
         "Singapore"
        ],
        [
         "45",
         "United Kingdom"
        ],
        [
         "46",
         "Italy"
        ],
        [
         "47",
         "Malaysia"
        ],
        [
         "48",
         "Mexico"
        ],
        [
         "49",
         "France"
        ]
       ],
       "shape": {
        "columns": 1,
        "rows": 785741
       }
      },
      "text/plain": [
       "0         Texas, United States\n",
       "1                       Mexico\n",
       "2                      Germany\n",
       "3         Texas, United States\n",
       "4                        Sudan\n",
       "                  ...         \n",
       "785736               Singapore\n",
       "785737                 Germany\n",
       "785738                Malaysia\n",
       "785739                   Sudan\n",
       "785740                   India\n",
       "Name: search_location, Length: 785741, dtype: object"
      ]
     },
     "execution_count": 5,
     "metadata": {},
     "output_type": "execute_result"
    }
   ],
   "source": [
    "df.search_location"
   ]
  },
  {
   "cell_type": "markdown",
   "id": "6cddcc08",
   "metadata": {},
   "source": [
    "---"
   ]
  },
  {
   "cell_type": "markdown",
   "id": "c18b384e",
   "metadata": {},
   "source": [
    "## 🟩 Select Job Title from 57th Row Element (1.23.4)"
   ]
  },
  {
   "cell_type": "code",
   "execution_count": 8,
   "id": "3240778d",
   "metadata": {},
   "outputs": [
    {
     "data": {
      "text/plain": [
       "'Principal Statistical Scientist'"
      ]
     },
     "execution_count": 8,
     "metadata": {},
     "output_type": "execute_result"
    }
   ],
   "source": [
    "df['job_title'][56]"
   ]
  },
  {
   "cell_type": "markdown",
   "id": "24502846",
   "metadata": {},
   "source": [
    "---"
   ]
  }
 ],
 "metadata": {
  "kernelspec": {
   "display_name": "Python 3",
   "language": "python",
   "name": "python3"
  },
  "language_info": {
   "codemirror_mode": {
    "name": "ipython",
    "version": 3
   },
   "file_extension": ".py",
   "mimetype": "text/x-python",
   "name": "python",
   "nbconvert_exporter": "python",
   "pygments_lexer": "ipython3",
   "version": "3.12.5"
  }
 },
 "nbformat": 4,
 "nbformat_minor": 5
}
