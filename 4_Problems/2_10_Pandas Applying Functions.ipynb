{
 "cells": [
  {
   "cell_type": "markdown",
   "id": "a11b57f7",
   "metadata": {},
   "source": [
    "<a target=\"_blank\" href=\"https://colab.research.google.com/github/lukebarousse/Python_Data_Analytics_Course/blob/main/4_Problems/2_10_Pandas Applying Functions.ipynb\">\n",
    "  <img src=\"https://colab.research.google.com/assets/colab-badge.svg\" alt=\"Open In Colab\"/>\n",
    "</a>"
   ]
  },
  {
   "cell_type": "code",
   "execution_count": null,
   "id": "5ae69c80",
   "metadata": {},
   "outputs": [],
   "source": [
    "import pandas as pd\n",
    "import matplotlib.pyplot as plt\n",
    "from datasets import load_dataset\n",
    "\n",
    "# Loading Data\n",
    "dataset = load_dataset('lukebarousse/data_jobs')\n",
    "df = dataset['train'].to_pandas()\n",
    "\n",
    "df['job_posted_date'] = pd.to_datetime(df['job_posted_date'])"
   ]
  },
  {
   "cell_type": "markdown",
   "id": "3510f08a",
   "metadata": {},
   "source": [
    "## 🟩 Convert Date to String (2.10.1)"
   ]
  },
  {
   "cell_type": "code",
   "execution_count": 40,
   "id": "83f9136e",
   "metadata": {},
   "outputs": [
    {
     "data": {
      "application/vnd.microsoft.datawrangler.viewer.v0+json": {
       "columns": [
        {
         "name": "index",
         "rawType": "int64",
         "type": "integer"
        },
        {
         "name": "job_title_short",
         "rawType": "object",
         "type": "string"
        },
        {
         "name": "job_title",
         "rawType": "object",
         "type": "string"
        },
        {
         "name": "job_location",
         "rawType": "object",
         "type": "string"
        },
        {
         "name": "job_via",
         "rawType": "object",
         "type": "string"
        },
        {
         "name": "job_schedule_type",
         "rawType": "object",
         "type": "string"
        },
        {
         "name": "job_work_from_home",
         "rawType": "bool",
         "type": "boolean"
        },
        {
         "name": "search_location",
         "rawType": "object",
         "type": "string"
        },
        {
         "name": "job_posted_date",
         "rawType": "datetime64[ns]",
         "type": "datetime"
        },
        {
         "name": "job_no_degree_mention",
         "rawType": "bool",
         "type": "boolean"
        },
        {
         "name": "job_health_insurance",
         "rawType": "bool",
         "type": "boolean"
        },
        {
         "name": "job_country",
         "rawType": "object",
         "type": "string"
        },
        {
         "name": "salary_rate",
         "rawType": "object",
         "type": "unknown"
        },
        {
         "name": "salary_year_avg",
         "rawType": "float64",
         "type": "float"
        },
        {
         "name": "salary_hour_avg",
         "rawType": "float64",
         "type": "float"
        },
        {
         "name": "company_name",
         "rawType": "object",
         "type": "string"
        },
        {
         "name": "job_skills",
         "rawType": "object",
         "type": "unknown"
        },
        {
         "name": "job_type_skills",
         "rawType": "object",
         "type": "unknown"
        },
        {
         "name": "job_posted_date_str",
         "rawType": "object",
         "type": "string"
        }
       ],
       "ref": "f0a33349-1e20-470f-b9a0-3f009f5de73d",
       "rows": [
        [
         "0",
         "Senior Data Engineer",
         "Senior Clinical Data Engineer / Principal Clinical Data Engineer ...",
         "Watertown, CT",
         "via Work Nearby",
         "Full-time",
         "False",
         "Texas, United States",
         "2023-06-16 13:44:15",
         "False",
         "False",
         "United States",
         null,
         null,
         null,
         "Boehringer Ingelheim",
         null,
         null,
         "2023-06-16"
        ],
        [
         "1",
         "Data Analyst",
         "Data Analyst",
         "Guadalajara, Jalisco, Mexico",
         "via BeBee México",
         "Full-time",
         "False",
         "Mexico",
         "2023-01-14 13:18:07",
         "False",
         "False",
         "Mexico",
         null,
         null,
         null,
         "Hewlett Packard Enterprise",
         "['r', 'python', 'sql', 'nosql', 'power bi', 'tableau']",
         "{'analyst_tools': ['power bi', 'tableau'], 'programming': ['r', 'python', 'sql', 'nosql']}",
         "2023-01-14"
        ],
        [
         "2",
         "Data Engineer",
         "Data Engineer/Scientist/Analyst, Mid or Senior (m/f/x)",
         "Berlin, Germany",
         "via LinkedIn",
         "Full-time",
         "False",
         "Germany",
         "2023-10-10 13:14:55",
         "False",
         "False",
         "Germany",
         null,
         null,
         null,
         "ALPHA Augmented Services",
         "['python', 'sql', 'c#', 'azure', 'airflow', 'dax', 'docker', 'kubernetes', 'jenkins']",
         "{'analyst_tools': ['dax'], 'cloud': ['azure'], 'libraries': ['airflow'], 'other': ['docker', 'kubernetes', 'jenkins'], 'programming': ['python', 'sql', 'c#']}",
         "2023-10-10"
        ],
        [
         "3",
         "Data Engineer",
         "LEAD ENGINEER - PRINCIPAL ANALYST - PRINCIPAL ENGINEER -  DATA...",
         "San Antonio, TX",
         "via Diversity.com",
         "Full-time",
         "False",
         "Texas, United States",
         "2023-07-04 13:01:41",
         "True",
         "False",
         "United States",
         null,
         null,
         null,
         "Southwest Research Institute",
         "['python', 'c++', 'java', 'matlab', 'aws', 'tensorflow', 'keras', 'pytorch']",
         "{'cloud': ['aws'], 'libraries': ['tensorflow', 'keras', 'pytorch'], 'programming': ['python', 'c++', 'java', 'matlab']}",
         "2023-07-04"
        ],
        [
         "4",
         "Data Engineer",
         "Data Engineer- Sr Jobs",
         "Washington, DC",
         "via Clearance Jobs",
         "Full-time",
         "False",
         "Sudan",
         "2023-08-07 14:29:36",
         "False",
         "False",
         "Sudan",
         null,
         null,
         null,
         "Kristina Daniel",
         "['bash', 'python', 'oracle', 'aws', 'ansible', 'puppet', 'jenkins', 'gitlab', 'git']",
         "{'cloud': ['oracle', 'aws'], 'other': ['ansible', 'puppet', 'jenkins', 'gitlab', 'git'], 'programming': ['bash', 'python']}",
         "2023-08-07"
        ]
       ],
       "shape": {
        "columns": 18,
        "rows": 5
       }
      },
      "text/html": [
       "<div>\n",
       "<style scoped>\n",
       "    .dataframe tbody tr th:only-of-type {\n",
       "        vertical-align: middle;\n",
       "    }\n",
       "\n",
       "    .dataframe tbody tr th {\n",
       "        vertical-align: top;\n",
       "    }\n",
       "\n",
       "    .dataframe thead th {\n",
       "        text-align: right;\n",
       "    }\n",
       "</style>\n",
       "<table border=\"1\" class=\"dataframe\">\n",
       "  <thead>\n",
       "    <tr style=\"text-align: right;\">\n",
       "      <th></th>\n",
       "      <th>job_title_short</th>\n",
       "      <th>job_title</th>\n",
       "      <th>job_location</th>\n",
       "      <th>job_via</th>\n",
       "      <th>job_schedule_type</th>\n",
       "      <th>job_work_from_home</th>\n",
       "      <th>search_location</th>\n",
       "      <th>job_posted_date</th>\n",
       "      <th>job_no_degree_mention</th>\n",
       "      <th>job_health_insurance</th>\n",
       "      <th>job_country</th>\n",
       "      <th>salary_rate</th>\n",
       "      <th>salary_year_avg</th>\n",
       "      <th>salary_hour_avg</th>\n",
       "      <th>company_name</th>\n",
       "      <th>job_skills</th>\n",
       "      <th>job_type_skills</th>\n",
       "      <th>job_posted_date_str</th>\n",
       "    </tr>\n",
       "  </thead>\n",
       "  <tbody>\n",
       "    <tr>\n",
       "      <th>0</th>\n",
       "      <td>Senior Data Engineer</td>\n",
       "      <td>Senior Clinical Data Engineer / Principal Clin...</td>\n",
       "      <td>Watertown, CT</td>\n",
       "      <td>via Work Nearby</td>\n",
       "      <td>Full-time</td>\n",
       "      <td>False</td>\n",
       "      <td>Texas, United States</td>\n",
       "      <td>2023-06-16 13:44:15</td>\n",
       "      <td>False</td>\n",
       "      <td>False</td>\n",
       "      <td>United States</td>\n",
       "      <td>NaN</td>\n",
       "      <td>NaN</td>\n",
       "      <td>NaN</td>\n",
       "      <td>Boehringer Ingelheim</td>\n",
       "      <td>None</td>\n",
       "      <td>NaN</td>\n",
       "      <td>2023-06-16</td>\n",
       "    </tr>\n",
       "    <tr>\n",
       "      <th>1</th>\n",
       "      <td>Data Analyst</td>\n",
       "      <td>Data Analyst</td>\n",
       "      <td>Guadalajara, Jalisco, Mexico</td>\n",
       "      <td>via BeBee México</td>\n",
       "      <td>Full-time</td>\n",
       "      <td>False</td>\n",
       "      <td>Mexico</td>\n",
       "      <td>2023-01-14 13:18:07</td>\n",
       "      <td>False</td>\n",
       "      <td>False</td>\n",
       "      <td>Mexico</td>\n",
       "      <td>NaN</td>\n",
       "      <td>NaN</td>\n",
       "      <td>NaN</td>\n",
       "      <td>Hewlett Packard Enterprise</td>\n",
       "      <td>[r, python, sql, nosql, power bi, tableau]</td>\n",
       "      <td>{'analyst_tools': ['power bi', 'tableau'], 'pr...</td>\n",
       "      <td>2023-01-14</td>\n",
       "    </tr>\n",
       "    <tr>\n",
       "      <th>2</th>\n",
       "      <td>Data Engineer</td>\n",
       "      <td>Data Engineer/Scientist/Analyst, Mid or Senior...</td>\n",
       "      <td>Berlin, Germany</td>\n",
       "      <td>via LinkedIn</td>\n",
       "      <td>Full-time</td>\n",
       "      <td>False</td>\n",
       "      <td>Germany</td>\n",
       "      <td>2023-10-10 13:14:55</td>\n",
       "      <td>False</td>\n",
       "      <td>False</td>\n",
       "      <td>Germany</td>\n",
       "      <td>NaN</td>\n",
       "      <td>NaN</td>\n",
       "      <td>NaN</td>\n",
       "      <td>ALPHA Augmented Services</td>\n",
       "      <td>[python, sql, c#, azure, airflow, dax, docker,...</td>\n",
       "      <td>{'analyst_tools': ['dax'], 'cloud': ['azure'],...</td>\n",
       "      <td>2023-10-10</td>\n",
       "    </tr>\n",
       "    <tr>\n",
       "      <th>3</th>\n",
       "      <td>Data Engineer</td>\n",
       "      <td>LEAD ENGINEER - PRINCIPAL ANALYST - PRINCIPAL ...</td>\n",
       "      <td>San Antonio, TX</td>\n",
       "      <td>via Diversity.com</td>\n",
       "      <td>Full-time</td>\n",
       "      <td>False</td>\n",
       "      <td>Texas, United States</td>\n",
       "      <td>2023-07-04 13:01:41</td>\n",
       "      <td>True</td>\n",
       "      <td>False</td>\n",
       "      <td>United States</td>\n",
       "      <td>NaN</td>\n",
       "      <td>NaN</td>\n",
       "      <td>NaN</td>\n",
       "      <td>Southwest Research Institute</td>\n",
       "      <td>[python, c++, java, matlab, aws, tensorflow, k...</td>\n",
       "      <td>{'cloud': ['aws'], 'libraries': ['tensorflow',...</td>\n",
       "      <td>2023-07-04</td>\n",
       "    </tr>\n",
       "    <tr>\n",
       "      <th>4</th>\n",
       "      <td>Data Engineer</td>\n",
       "      <td>Data Engineer- Sr Jobs</td>\n",
       "      <td>Washington, DC</td>\n",
       "      <td>via Clearance Jobs</td>\n",
       "      <td>Full-time</td>\n",
       "      <td>False</td>\n",
       "      <td>Sudan</td>\n",
       "      <td>2023-08-07 14:29:36</td>\n",
       "      <td>False</td>\n",
       "      <td>False</td>\n",
       "      <td>Sudan</td>\n",
       "      <td>NaN</td>\n",
       "      <td>NaN</td>\n",
       "      <td>NaN</td>\n",
       "      <td>Kristina Daniel</td>\n",
       "      <td>[bash, python, oracle, aws, ansible, puppet, j...</td>\n",
       "      <td>{'cloud': ['oracle', 'aws'], 'other': ['ansibl...</td>\n",
       "      <td>2023-08-07</td>\n",
       "    </tr>\n",
       "  </tbody>\n",
       "</table>\n",
       "</div>"
      ],
      "text/plain": [
       "        job_title_short                                          job_title  \\\n",
       "0  Senior Data Engineer  Senior Clinical Data Engineer / Principal Clin...   \n",
       "1          Data Analyst                                       Data Analyst   \n",
       "2         Data Engineer  Data Engineer/Scientist/Analyst, Mid or Senior...   \n",
       "3         Data Engineer  LEAD ENGINEER - PRINCIPAL ANALYST - PRINCIPAL ...   \n",
       "4         Data Engineer                             Data Engineer- Sr Jobs   \n",
       "\n",
       "                   job_location             job_via job_schedule_type  \\\n",
       "0                 Watertown, CT     via Work Nearby         Full-time   \n",
       "1  Guadalajara, Jalisco, Mexico    via BeBee México         Full-time   \n",
       "2               Berlin, Germany        via LinkedIn         Full-time   \n",
       "3               San Antonio, TX   via Diversity.com         Full-time   \n",
       "4                Washington, DC  via Clearance Jobs         Full-time   \n",
       "\n",
       "   job_work_from_home       search_location     job_posted_date  \\\n",
       "0               False  Texas, United States 2023-06-16 13:44:15   \n",
       "1               False                Mexico 2023-01-14 13:18:07   \n",
       "2               False               Germany 2023-10-10 13:14:55   \n",
       "3               False  Texas, United States 2023-07-04 13:01:41   \n",
       "4               False                 Sudan 2023-08-07 14:29:36   \n",
       "\n",
       "   job_no_degree_mention  job_health_insurance    job_country salary_rate  \\\n",
       "0                  False                 False  United States         NaN   \n",
       "1                  False                 False         Mexico         NaN   \n",
       "2                  False                 False        Germany         NaN   \n",
       "3                   True                 False  United States         NaN   \n",
       "4                  False                 False          Sudan         NaN   \n",
       "\n",
       "   salary_year_avg  salary_hour_avg                  company_name  \\\n",
       "0              NaN              NaN          Boehringer Ingelheim   \n",
       "1              NaN              NaN    Hewlett Packard Enterprise   \n",
       "2              NaN              NaN      ALPHA Augmented Services   \n",
       "3              NaN              NaN  Southwest Research Institute   \n",
       "4              NaN              NaN               Kristina Daniel   \n",
       "\n",
       "                                          job_skills  \\\n",
       "0                                               None   \n",
       "1         [r, python, sql, nosql, power bi, tableau]   \n",
       "2  [python, sql, c#, azure, airflow, dax, docker,...   \n",
       "3  [python, c++, java, matlab, aws, tensorflow, k...   \n",
       "4  [bash, python, oracle, aws, ansible, puppet, j...   \n",
       "\n",
       "                                     job_type_skills job_posted_date_str  \n",
       "0                                                NaN          2023-06-16  \n",
       "1  {'analyst_tools': ['power bi', 'tableau'], 'pr...          2023-01-14  \n",
       "2  {'analyst_tools': ['dax'], 'cloud': ['azure'],...          2023-10-10  \n",
       "3  {'cloud': ['aws'], 'libraries': ['tensorflow',...          2023-07-04  \n",
       "4  {'cloud': ['oracle', 'aws'], 'other': ['ansibl...          2023-08-07  "
      ]
     },
     "execution_count": 40,
     "metadata": {},
     "output_type": "execute_result"
    }
   ],
   "source": [
    "df['job_posted_date_str'] = df['job_posted_date'].apply(lambda date: date.strftime('%Y-%m-%d'))\n",
    "df.head()\n"
   ]
  },
  {
   "cell_type": "markdown",
   "id": "e7796378",
   "metadata": {},
   "source": [
    "---"
   ]
  },
  {
   "cell_type": "markdown",
   "id": "46bac43e",
   "metadata": {},
   "source": [
    "## 🟨 Days Since Posted (2.10.2)"
   ]
  },
  {
   "cell_type": "code",
   "execution_count": null,
   "id": "730e04c1",
   "metadata": {},
   "outputs": [
    {
     "data": {
      "application/vnd.microsoft.datawrangler.viewer.v0+json": {
       "columns": [
        {
         "name": "index",
         "rawType": "int64",
         "type": "integer"
        },
        {
         "name": "job_title_short",
         "rawType": "object",
         "type": "string"
        },
        {
         "name": "job_title",
         "rawType": "object",
         "type": "string"
        },
        {
         "name": "job_location",
         "rawType": "object",
         "type": "string"
        },
        {
         "name": "job_via",
         "rawType": "object",
         "type": "string"
        },
        {
         "name": "job_schedule_type",
         "rawType": "object",
         "type": "string"
        },
        {
         "name": "job_work_from_home",
         "rawType": "bool",
         "type": "boolean"
        },
        {
         "name": "search_location",
         "rawType": "object",
         "type": "string"
        },
        {
         "name": "job_posted_date",
         "rawType": "datetime64[ns]",
         "type": "datetime"
        },
        {
         "name": "job_no_degree_mention",
         "rawType": "bool",
         "type": "boolean"
        },
        {
         "name": "job_health_insurance",
         "rawType": "bool",
         "type": "boolean"
        },
        {
         "name": "job_country",
         "rawType": "object",
         "type": "string"
        },
        {
         "name": "salary_rate",
         "rawType": "object",
         "type": "unknown"
        },
        {
         "name": "salary_year_avg",
         "rawType": "float64",
         "type": "float"
        },
        {
         "name": "salary_hour_avg",
         "rawType": "float64",
         "type": "float"
        },
        {
         "name": "company_name",
         "rawType": "object",
         "type": "string"
        },
        {
         "name": "job_skills",
         "rawType": "object",
         "type": "unknown"
        },
        {
         "name": "job_type_skills",
         "rawType": "object",
         "type": "unknown"
        },
        {
         "name": "job_posted_date_str",
         "rawType": "object",
         "type": "string"
        },
        {
         "name": "days_since_posted",
         "rawType": "int64",
         "type": "integer"
        }
       ],
       "ref": "2f9a5b36-7f42-42e6-8dae-d7719314c5ee",
       "rows": [
        [
         "0",
         "Senior Data Engineer",
         "Senior Clinical Data Engineer / Principal Clinical Data Engineer ...",
         "Watertown, CT",
         "via Work Nearby",
         "Full-time",
         "False",
         "Texas, United States",
         "2023-06-16 13:44:15",
         "False",
         "False",
         "United States",
         null,
         null,
         null,
         "Boehringer Ingelheim",
         null,
         null,
         "2023-06-16",
         "711"
        ],
        [
         "1",
         "Data Analyst",
         "Data Analyst",
         "Guadalajara, Jalisco, Mexico",
         "via BeBee México",
         "Full-time",
         "False",
         "Mexico",
         "2023-01-14 13:18:07",
         "False",
         "False",
         "Mexico",
         null,
         null,
         null,
         "Hewlett Packard Enterprise",
         "['r', 'python', 'sql', 'nosql', 'power bi', 'tableau']",
         "{'analyst_tools': ['power bi', 'tableau'], 'programming': ['r', 'python', 'sql', 'nosql']}",
         "2023-01-14",
         "864"
        ],
        [
         "2",
         "Data Engineer",
         "Data Engineer/Scientist/Analyst, Mid or Senior (m/f/x)",
         "Berlin, Germany",
         "via LinkedIn",
         "Full-time",
         "False",
         "Germany",
         "2023-10-10 13:14:55",
         "False",
         "False",
         "Germany",
         null,
         null,
         null,
         "ALPHA Augmented Services",
         "['python', 'sql', 'c#', 'azure', 'airflow', 'dax', 'docker', 'kubernetes', 'jenkins']",
         "{'analyst_tools': ['dax'], 'cloud': ['azure'], 'libraries': ['airflow'], 'other': ['docker', 'kubernetes', 'jenkins'], 'programming': ['python', 'sql', 'c#']}",
         "2023-10-10",
         "595"
        ],
        [
         "3",
         "Data Engineer",
         "LEAD ENGINEER - PRINCIPAL ANALYST - PRINCIPAL ENGINEER -  DATA...",
         "San Antonio, TX",
         "via Diversity.com",
         "Full-time",
         "False",
         "Texas, United States",
         "2023-07-04 13:01:41",
         "True",
         "False",
         "United States",
         null,
         null,
         null,
         "Southwest Research Institute",
         "['python', 'c++', 'java', 'matlab', 'aws', 'tensorflow', 'keras', 'pytorch']",
         "{'cloud': ['aws'], 'libraries': ['tensorflow', 'keras', 'pytorch'], 'programming': ['python', 'c++', 'java', 'matlab']}",
         "2023-07-04",
         "693"
        ],
        [
         "4",
         "Data Engineer",
         "Data Engineer- Sr Jobs",
         "Washington, DC",
         "via Clearance Jobs",
         "Full-time",
         "False",
         "Sudan",
         "2023-08-07 14:29:36",
         "False",
         "False",
         "Sudan",
         null,
         null,
         null,
         "Kristina Daniel",
         "['bash', 'python', 'oracle', 'aws', 'ansible', 'puppet', 'jenkins', 'gitlab', 'git']",
         "{'cloud': ['oracle', 'aws'], 'other': ['ansible', 'puppet', 'jenkins', 'gitlab', 'git'], 'programming': ['bash', 'python']}",
         "2023-08-07",
         "659"
        ]
       ],
       "shape": {
        "columns": 19,
        "rows": 5
       }
      },
      "text/html": [
       "<div>\n",
       "<style scoped>\n",
       "    .dataframe tbody tr th:only-of-type {\n",
       "        vertical-align: middle;\n",
       "    }\n",
       "\n",
       "    .dataframe tbody tr th {\n",
       "        vertical-align: top;\n",
       "    }\n",
       "\n",
       "    .dataframe thead th {\n",
       "        text-align: right;\n",
       "    }\n",
       "</style>\n",
       "<table border=\"1\" class=\"dataframe\">\n",
       "  <thead>\n",
       "    <tr style=\"text-align: right;\">\n",
       "      <th></th>\n",
       "      <th>job_title_short</th>\n",
       "      <th>job_title</th>\n",
       "      <th>job_location</th>\n",
       "      <th>job_via</th>\n",
       "      <th>job_schedule_type</th>\n",
       "      <th>job_work_from_home</th>\n",
       "      <th>search_location</th>\n",
       "      <th>job_posted_date</th>\n",
       "      <th>job_no_degree_mention</th>\n",
       "      <th>job_health_insurance</th>\n",
       "      <th>job_country</th>\n",
       "      <th>salary_rate</th>\n",
       "      <th>salary_year_avg</th>\n",
       "      <th>salary_hour_avg</th>\n",
       "      <th>company_name</th>\n",
       "      <th>job_skills</th>\n",
       "      <th>job_type_skills</th>\n",
       "      <th>job_posted_date_str</th>\n",
       "      <th>days_since_posted</th>\n",
       "    </tr>\n",
       "  </thead>\n",
       "  <tbody>\n",
       "    <tr>\n",
       "      <th>0</th>\n",
       "      <td>Senior Data Engineer</td>\n",
       "      <td>Senior Clinical Data Engineer / Principal Clin...</td>\n",
       "      <td>Watertown, CT</td>\n",
       "      <td>via Work Nearby</td>\n",
       "      <td>Full-time</td>\n",
       "      <td>False</td>\n",
       "      <td>Texas, United States</td>\n",
       "      <td>2023-06-16 13:44:15</td>\n",
       "      <td>False</td>\n",
       "      <td>False</td>\n",
       "      <td>United States</td>\n",
       "      <td>NaN</td>\n",
       "      <td>NaN</td>\n",
       "      <td>NaN</td>\n",
       "      <td>Boehringer Ingelheim</td>\n",
       "      <td>None</td>\n",
       "      <td>NaN</td>\n",
       "      <td>2023-06-16</td>\n",
       "      <td>711</td>\n",
       "    </tr>\n",
       "    <tr>\n",
       "      <th>1</th>\n",
       "      <td>Data Analyst</td>\n",
       "      <td>Data Analyst</td>\n",
       "      <td>Guadalajara, Jalisco, Mexico</td>\n",
       "      <td>via BeBee México</td>\n",
       "      <td>Full-time</td>\n",
       "      <td>False</td>\n",
       "      <td>Mexico</td>\n",
       "      <td>2023-01-14 13:18:07</td>\n",
       "      <td>False</td>\n",
       "      <td>False</td>\n",
       "      <td>Mexico</td>\n",
       "      <td>NaN</td>\n",
       "      <td>NaN</td>\n",
       "      <td>NaN</td>\n",
       "      <td>Hewlett Packard Enterprise</td>\n",
       "      <td>[r, python, sql, nosql, power bi, tableau]</td>\n",
       "      <td>{'analyst_tools': ['power bi', 'tableau'], 'pr...</td>\n",
       "      <td>2023-01-14</td>\n",
       "      <td>864</td>\n",
       "    </tr>\n",
       "    <tr>\n",
       "      <th>2</th>\n",
       "      <td>Data Engineer</td>\n",
       "      <td>Data Engineer/Scientist/Analyst, Mid or Senior...</td>\n",
       "      <td>Berlin, Germany</td>\n",
       "      <td>via LinkedIn</td>\n",
       "      <td>Full-time</td>\n",
       "      <td>False</td>\n",
       "      <td>Germany</td>\n",
       "      <td>2023-10-10 13:14:55</td>\n",
       "      <td>False</td>\n",
       "      <td>False</td>\n",
       "      <td>Germany</td>\n",
       "      <td>NaN</td>\n",
       "      <td>NaN</td>\n",
       "      <td>NaN</td>\n",
       "      <td>ALPHA Augmented Services</td>\n",
       "      <td>[python, sql, c#, azure, airflow, dax, docker,...</td>\n",
       "      <td>{'analyst_tools': ['dax'], 'cloud': ['azure'],...</td>\n",
       "      <td>2023-10-10</td>\n",
       "      <td>595</td>\n",
       "    </tr>\n",
       "    <tr>\n",
       "      <th>3</th>\n",
       "      <td>Data Engineer</td>\n",
       "      <td>LEAD ENGINEER - PRINCIPAL ANALYST - PRINCIPAL ...</td>\n",
       "      <td>San Antonio, TX</td>\n",
       "      <td>via Diversity.com</td>\n",
       "      <td>Full-time</td>\n",
       "      <td>False</td>\n",
       "      <td>Texas, United States</td>\n",
       "      <td>2023-07-04 13:01:41</td>\n",
       "      <td>True</td>\n",
       "      <td>False</td>\n",
       "      <td>United States</td>\n",
       "      <td>NaN</td>\n",
       "      <td>NaN</td>\n",
       "      <td>NaN</td>\n",
       "      <td>Southwest Research Institute</td>\n",
       "      <td>[python, c++, java, matlab, aws, tensorflow, k...</td>\n",
       "      <td>{'cloud': ['aws'], 'libraries': ['tensorflow',...</td>\n",
       "      <td>2023-07-04</td>\n",
       "      <td>693</td>\n",
       "    </tr>\n",
       "    <tr>\n",
       "      <th>4</th>\n",
       "      <td>Data Engineer</td>\n",
       "      <td>Data Engineer- Sr Jobs</td>\n",
       "      <td>Washington, DC</td>\n",
       "      <td>via Clearance Jobs</td>\n",
       "      <td>Full-time</td>\n",
       "      <td>False</td>\n",
       "      <td>Sudan</td>\n",
       "      <td>2023-08-07 14:29:36</td>\n",
       "      <td>False</td>\n",
       "      <td>False</td>\n",
       "      <td>Sudan</td>\n",
       "      <td>NaN</td>\n",
       "      <td>NaN</td>\n",
       "      <td>NaN</td>\n",
       "      <td>Kristina Daniel</td>\n",
       "      <td>[bash, python, oracle, aws, ansible, puppet, j...</td>\n",
       "      <td>{'cloud': ['oracle', 'aws'], 'other': ['ansibl...</td>\n",
       "      <td>2023-08-07</td>\n",
       "      <td>659</td>\n",
       "    </tr>\n",
       "  </tbody>\n",
       "</table>\n",
       "</div>"
      ],
      "text/plain": [
       "        job_title_short                                          job_title  \\\n",
       "0  Senior Data Engineer  Senior Clinical Data Engineer / Principal Clin...   \n",
       "1          Data Analyst                                       Data Analyst   \n",
       "2         Data Engineer  Data Engineer/Scientist/Analyst, Mid or Senior...   \n",
       "3         Data Engineer  LEAD ENGINEER - PRINCIPAL ANALYST - PRINCIPAL ...   \n",
       "4         Data Engineer                             Data Engineer- Sr Jobs   \n",
       "\n",
       "                   job_location             job_via job_schedule_type  \\\n",
       "0                 Watertown, CT     via Work Nearby         Full-time   \n",
       "1  Guadalajara, Jalisco, Mexico    via BeBee México         Full-time   \n",
       "2               Berlin, Germany        via LinkedIn         Full-time   \n",
       "3               San Antonio, TX   via Diversity.com         Full-time   \n",
       "4                Washington, DC  via Clearance Jobs         Full-time   \n",
       "\n",
       "   job_work_from_home       search_location     job_posted_date  \\\n",
       "0               False  Texas, United States 2023-06-16 13:44:15   \n",
       "1               False                Mexico 2023-01-14 13:18:07   \n",
       "2               False               Germany 2023-10-10 13:14:55   \n",
       "3               False  Texas, United States 2023-07-04 13:01:41   \n",
       "4               False                 Sudan 2023-08-07 14:29:36   \n",
       "\n",
       "   job_no_degree_mention  job_health_insurance    job_country salary_rate  \\\n",
       "0                  False                 False  United States         NaN   \n",
       "1                  False                 False         Mexico         NaN   \n",
       "2                  False                 False        Germany         NaN   \n",
       "3                   True                 False  United States         NaN   \n",
       "4                  False                 False          Sudan         NaN   \n",
       "\n",
       "   salary_year_avg  salary_hour_avg                  company_name  \\\n",
       "0              NaN              NaN          Boehringer Ingelheim   \n",
       "1              NaN              NaN    Hewlett Packard Enterprise   \n",
       "2              NaN              NaN      ALPHA Augmented Services   \n",
       "3              NaN              NaN  Southwest Research Institute   \n",
       "4              NaN              NaN               Kristina Daniel   \n",
       "\n",
       "                                          job_skills  \\\n",
       "0                                               None   \n",
       "1         [r, python, sql, nosql, power bi, tableau]   \n",
       "2  [python, sql, c#, azure, airflow, dax, docker,...   \n",
       "3  [python, c++, java, matlab, aws, tensorflow, k...   \n",
       "4  [bash, python, oracle, aws, ansible, puppet, j...   \n",
       "\n",
       "                                     job_type_skills job_posted_date_str  \\\n",
       "0                                                NaN          2023-06-16   \n",
       "1  {'analyst_tools': ['power bi', 'tableau'], 'pr...          2023-01-14   \n",
       "2  {'analyst_tools': ['dax'], 'cloud': ['azure'],...          2023-10-10   \n",
       "3  {'cloud': ['aws'], 'libraries': ['tensorflow',...          2023-07-04   \n",
       "4  {'cloud': ['oracle', 'aws'], 'other': ['ansibl...          2023-08-07   \n",
       "\n",
       "   days_since_posted  \n",
       "0                711  \n",
       "1                864  \n",
       "2                595  \n",
       "3                693  \n",
       "4                659  "
      ]
     },
     "execution_count": 44,
     "metadata": {},
     "output_type": "execute_result"
    }
   ],
   "source": [
    "from datetime import datetime\n",
    "\n",
    "current_date = datetime.now()\n",
    "def time_diff(posted_date):\n",
    "    return (current_date - posted_date).days\n",
    "\n",
    "df['days_since_posted'] = df['job_posted_date'].apply(time_diff)\n",
    "df.head()"
   ]
  },
  {
   "cell_type": "markdown",
   "id": "26fc274c",
   "metadata": {},
   "source": []
  },
  {
   "cell_type": "markdown",
   "id": "fd9245ae",
   "metadata": {},
   "source": [
    "---"
   ]
  },
  {
   "cell_type": "markdown",
   "id": "f4317b30",
   "metadata": {},
   "source": [
    "## 🟥 Salary Category (2.10.3)"
   ]
  },
  {
   "cell_type": "code",
   "execution_count": 54,
   "id": "56638d70",
   "metadata": {},
   "outputs": [
    {
     "data": {
      "application/vnd.microsoft.datawrangler.viewer.v0+json": {
       "columns": [
        {
         "name": "index",
         "rawType": "int64",
         "type": "integer"
        },
        {
         "name": "salary_year_avg",
         "rawType": "float64",
         "type": "float"
        },
        {
         "name": "salary_category",
         "rawType": "object",
         "type": "string"
        }
       ],
       "ref": "a03f157d-0ae1-41f4-abfd-23827a9a3ca3",
       "rows": [
        [
         "28",
         "109500.0",
         "High"
        ],
        [
         "77",
         "140000.0",
         "High"
        ],
        [
         "92",
         "120000.0",
         "High"
        ],
        [
         "100",
         "228222.0",
         "High"
        ],
        [
         "109",
         "89000.0",
         "Medium"
        ],
        [
         "116",
         "114000.0",
         "High"
        ],
        [
         "146",
         "129500.0",
         "High"
        ],
        [
         "180",
         "90250.0",
         "Medium"
        ],
        [
         "212",
         "157500.0",
         "High"
        ],
        [
         "257",
         "103128.0",
         "High"
        ],
        [
         "307",
         "185000.0",
         "High"
        ],
        [
         "339",
         "195000.0",
         "High"
        ],
        [
         "380",
         "97500.0",
         "Medium"
        ],
        [
         "388",
         "89000.0",
         "Medium"
        ],
        [
         "410",
         "133285.0",
         "High"
        ],
        [
         "450",
         "157500.0",
         "High"
        ],
        [
         "495",
         "168500.0",
         "High"
        ],
        [
         "520",
         "63000.0",
         "Medium"
        ],
        [
         "545",
         "80000.0",
         "Medium"
        ],
        [
         "571",
         "110000.0",
         "High"
        ],
        [
         "573",
         "160000.0",
         "High"
        ],
        [
         "645",
         "125000.0",
         "High"
        ],
        [
         "654",
         "70000.0",
         "Medium"
        ],
        [
         "657",
         "165000.0",
         "High"
        ],
        [
         "679",
         "317000.0",
         "High"
        ],
        [
         "704",
         "100000.0",
         "Medium"
        ],
        [
         "719",
         "111228.15625",
         "High"
        ],
        [
         "726",
         "173500.0",
         "High"
        ],
        [
         "733",
         "160000.0",
         "High"
        ],
        [
         "762",
         "171000.0",
         "High"
        ],
        [
         "773",
         "180000.0",
         "High"
        ],
        [
         "813",
         "157500.0",
         "High"
        ],
        [
         "923",
         "135000.0",
         "High"
        ],
        [
         "982",
         "85000.0",
         "Medium"
        ],
        [
         "988",
         "62623.0",
         "Medium"
        ],
        [
         "990",
         "90000.0",
         "Medium"
        ],
        [
         "993",
         "125000.0",
         "High"
        ],
        [
         "1011",
         "90000.0",
         "Medium"
        ],
        [
         "1042",
         "105300.0",
         "High"
        ],
        [
         "1106",
         "137500.0",
         "High"
        ],
        [
         "1107",
         "157500.0",
         "High"
        ],
        [
         "1148",
         "155000.0",
         "High"
        ],
        [
         "1164",
         "190000.0",
         "High"
        ],
        [
         "1209",
         "79200.0",
         "Medium"
        ],
        [
         "1238",
         "190000.0",
         "High"
        ],
        [
         "1257",
         "70700.0",
         "Medium"
        ],
        [
         "1261",
         "180000.0",
         "High"
        ],
        [
         "1280",
         "233500.0",
         "High"
        ],
        [
         "1284",
         "102500.0",
         "High"
        ],
        [
         "1313",
         "79200.0",
         "Medium"
        ]
       ],
       "shape": {
        "columns": 2,
        "rows": 22003
       }
      },
      "text/html": [
       "<div>\n",
       "<style scoped>\n",
       "    .dataframe tbody tr th:only-of-type {\n",
       "        vertical-align: middle;\n",
       "    }\n",
       "\n",
       "    .dataframe tbody tr th {\n",
       "        vertical-align: top;\n",
       "    }\n",
       "\n",
       "    .dataframe thead th {\n",
       "        text-align: right;\n",
       "    }\n",
       "</style>\n",
       "<table border=\"1\" class=\"dataframe\">\n",
       "  <thead>\n",
       "    <tr style=\"text-align: right;\">\n",
       "      <th></th>\n",
       "      <th>salary_year_avg</th>\n",
       "      <th>salary_category</th>\n",
       "    </tr>\n",
       "  </thead>\n",
       "  <tbody>\n",
       "    <tr>\n",
       "      <th>28</th>\n",
       "      <td>109500.0</td>\n",
       "      <td>High</td>\n",
       "    </tr>\n",
       "    <tr>\n",
       "      <th>77</th>\n",
       "      <td>140000.0</td>\n",
       "      <td>High</td>\n",
       "    </tr>\n",
       "    <tr>\n",
       "      <th>92</th>\n",
       "      <td>120000.0</td>\n",
       "      <td>High</td>\n",
       "    </tr>\n",
       "    <tr>\n",
       "      <th>100</th>\n",
       "      <td>228222.0</td>\n",
       "      <td>High</td>\n",
       "    </tr>\n",
       "    <tr>\n",
       "      <th>109</th>\n",
       "      <td>89000.0</td>\n",
       "      <td>Medium</td>\n",
       "    </tr>\n",
       "    <tr>\n",
       "      <th>...</th>\n",
       "      <td>...</td>\n",
       "      <td>...</td>\n",
       "    </tr>\n",
       "    <tr>\n",
       "      <th>785624</th>\n",
       "      <td>139216.0</td>\n",
       "      <td>High</td>\n",
       "    </tr>\n",
       "    <tr>\n",
       "      <th>785641</th>\n",
       "      <td>150000.0</td>\n",
       "      <td>High</td>\n",
       "    </tr>\n",
       "    <tr>\n",
       "      <th>785648</th>\n",
       "      <td>221875.0</td>\n",
       "      <td>High</td>\n",
       "    </tr>\n",
       "    <tr>\n",
       "      <th>785682</th>\n",
       "      <td>157500.0</td>\n",
       "      <td>High</td>\n",
       "    </tr>\n",
       "    <tr>\n",
       "      <th>785692</th>\n",
       "      <td>157500.0</td>\n",
       "      <td>High</td>\n",
       "    </tr>\n",
       "  </tbody>\n",
       "</table>\n",
       "<p>22003 rows × 2 columns</p>\n",
       "</div>"
      ],
      "text/plain": [
       "        salary_year_avg salary_category\n",
       "28             109500.0            High\n",
       "77             140000.0            High\n",
       "92             120000.0            High\n",
       "100            228222.0            High\n",
       "109             89000.0          Medium\n",
       "...                 ...             ...\n",
       "785624         139216.0            High\n",
       "785641         150000.0            High\n",
       "785648         221875.0            High\n",
       "785682         157500.0            High\n",
       "785692         157500.0            High\n",
       "\n",
       "[22003 rows x 2 columns]"
      ]
     },
     "execution_count": 54,
     "metadata": {},
     "output_type": "execute_result"
    }
   ],
   "source": [
    "df_filtered = df[pd.notna(df['salary_year_avg'])].copy()\n",
    "\n",
    "df_filtered['salary_category'] = df_filtered['salary_year_avg'].apply(lambda x: 'Low' if x < 60000 else ('High' if x > 100000 else 'Medium'))\n",
    "df_filtered[['salary_year_avg', 'salary_category']]"
   ]
  },
  {
   "cell_type": "markdown",
   "id": "9b0f74eb",
   "metadata": {},
   "source": [
    "---"
   ]
  }
 ],
 "metadata": {
  "kernelspec": {
   "display_name": "Python 3",
   "language": "python",
   "name": "python3"
  },
  "language_info": {
   "codemirror_mode": {
    "name": "ipython",
    "version": 3
   },
   "file_extension": ".py",
   "mimetype": "text/x-python",
   "name": "python",
   "nbconvert_exporter": "python",
   "pygments_lexer": "ipython3",
   "version": "3.12.5"
  }
 },
 "nbformat": 4,
 "nbformat_minor": 5
}
