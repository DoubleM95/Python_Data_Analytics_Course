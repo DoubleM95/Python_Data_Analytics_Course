{
 "cells": [
  {
   "cell_type": "markdown",
   "id": "95f6ce0f",
   "metadata": {},
   "source": [
    "<a target=\"_blank\" href=\"https://colab.research.google.com/github/lukebarousse/Python_Data_Analytics_Course/blob/main/4_Problems/1_02.1_Python Terms.ipynb\">\n",
    "  <img src=\"https://colab.research.google.com/assets/colab-badge.svg\" alt=\"Open In Colab\"/>\n",
    "</a>"
   ]
  },
  {
   "cell_type": "markdown",
   "id": "beb9ad38",
   "metadata": {},
   "source": [
    "## 🟩 Example of Object (1.2.1.1)"
   ]
  },
  {
   "cell_type": "code",
   "execution_count": 19,
   "id": "c12eb275",
   "metadata": {},
   "outputs": [
    {
     "data": {
      "text/plain": [
       "'Test'"
      ]
     },
     "execution_count": 19,
     "metadata": {},
     "output_type": "execute_result"
    }
   ],
   "source": [
    "'Test'"
   ]
  },
  {
   "cell_type": "markdown",
   "id": "4f92e924",
   "metadata": {},
   "source": [
    "---"
   ]
  },
  {
   "cell_type": "markdown",
   "id": "0d8bd28e",
   "metadata": {},
   "source": [
    "## 🟩 Define Variable (1.2.1.2)"
   ]
  },
  {
   "cell_type": "code",
   "execution_count": 20,
   "id": "b86bf00f",
   "metadata": {},
   "outputs": [],
   "source": [
    "abc = 'abc'"
   ]
  },
  {
   "cell_type": "markdown",
   "id": "cb421822",
   "metadata": {},
   "source": [
    "---"
   ]
  },
  {
   "cell_type": "markdown",
   "id": "6e3537ff",
   "metadata": {},
   "source": [
    "## 🟨 Define Function (1.2.1.3)"
   ]
  },
  {
   "cell_type": "code",
   "execution_count": 21,
   "id": "cde6212a",
   "metadata": {},
   "outputs": [],
   "source": [
    "def function(x):\n",
    "    pass"
   ]
  },
  {
   "cell_type": "markdown",
   "id": "7d7fbaf5",
   "metadata": {},
   "source": [
    "---"
   ]
  },
  {
   "cell_type": "markdown",
   "id": "3b23bdf3",
   "metadata": {},
   "source": [
    "## 🟨 Define Class (1.2.1.4)"
   ]
  },
  {
   "cell_type": "code",
   "execution_count": 22,
   "id": "8258d78c",
   "metadata": {},
   "outputs": [],
   "source": [
    "class TestClass():\n",
    "    def __init__(self):\n",
    "        self.test = 'Haha'\n",
    "    \n",
    "    def testMethod(self):\n",
    "        print(\"I'm testMethod from TestClass\")"
   ]
  },
  {
   "cell_type": "markdown",
   "id": "a7b1c8db",
   "metadata": {},
   "source": [
    "---"
   ]
  },
  {
   "cell_type": "markdown",
   "id": "4e4c0d49",
   "metadata": {},
   "source": [
    "## 🟥 Call Method (1.2.1.5)"
   ]
  },
  {
   "cell_type": "code",
   "execution_count": 23,
   "id": "5f123b9b",
   "metadata": {},
   "outputs": [
    {
     "name": "stdout",
     "output_type": "stream",
     "text": [
      "I'm testMethod from TestClass\n"
     ]
    }
   ],
   "source": [
    "test = TestClass()\n",
    "test.testMethod()"
   ]
  },
  {
   "cell_type": "markdown",
   "id": "84d3740e",
   "metadata": {},
   "source": [
    "---"
   ]
  },
  {
   "cell_type": "markdown",
   "id": "7b8b125d",
   "metadata": {},
   "source": [
    "## 🟥 Example of Attribute (1.2.1.6)"
   ]
  },
  {
   "cell_type": "code",
   "execution_count": 24,
   "id": "d0c76efd",
   "metadata": {},
   "outputs": [
    {
     "data": {
      "text/plain": [
       "'Haha'"
      ]
     },
     "execution_count": 24,
     "metadata": {},
     "output_type": "execute_result"
    }
   ],
   "source": [
    "test.test"
   ]
  },
  {
   "cell_type": "markdown",
   "id": "b54deeb8",
   "metadata": {},
   "source": [
    "---"
   ]
  }
 ],
 "metadata": {
  "kernelspec": {
   "display_name": "Python 3",
   "language": "python",
   "name": "python3"
  },
  "language_info": {
   "codemirror_mode": {
    "name": "ipython",
    "version": 3
   },
   "file_extension": ".py",
   "mimetype": "text/x-python",
   "name": "python",
   "nbconvert_exporter": "python",
   "pygments_lexer": "ipython3",
   "version": "3.12.5"
  }
 },
 "nbformat": 4,
 "nbformat_minor": 5
}
