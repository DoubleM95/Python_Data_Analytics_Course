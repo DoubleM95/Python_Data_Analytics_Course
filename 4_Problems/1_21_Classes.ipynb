{
 "cells": [
  {
   "cell_type": "markdown",
   "id": "18a8d444",
   "metadata": {},
   "source": [
    "<a target=\"_blank\" href=\"https://colab.research.google.com/github/lukebarousse/Python_Data_Analytics_Course/blob/main/4_Problems/1_21_Classes.ipynb\">\n",
    "  <img src=\"https://colab.research.google.com/assets/colab-badge.svg\" alt=\"Open In Colab\"/>\n",
    "</a>"
   ]
  },
  {
   "cell_type": "markdown",
   "id": "edc8a40a",
   "metadata": {},
   "source": [
    "## 🟩 Create JobPosting Class (1.21.1)"
   ]
  },
  {
   "cell_type": "code",
   "execution_count": null,
   "id": "26bdb6dc",
   "metadata": {},
   "outputs": [],
   "source": [
    "# Create the JobPostings class in this code cell\n",
    "class JobPosting:\n",
    "    def __init__(self, title, company, location):\n",
    "        self.title = title,\n",
    "        self.company = company,\n",
    "        self.location = location\n",
    "        \n",
    "job = JobPosting('Data Scientist', 'Tech Innovations', 'New York')  \n",
    "\n",
    "print(job.title)\n",
    "print(job.company)\n",
    "print(job.location)    "
   ]
  },
  {
   "cell_type": "markdown",
   "id": "98b6caff",
   "metadata": {},
   "source": [
    "---"
   ]
  },
  {
   "cell_type": "markdown",
   "id": "b152b78d",
   "metadata": {},
   "source": [
    "## 🟨 Convert to Dictionary (1.21.2)"
   ]
  },
  {
   "cell_type": "code",
   "execution_count": null,
   "id": "82b617cd",
   "metadata": {},
   "outputs": [
    {
     "name": "stdout",
     "output_type": "stream",
     "text": [
      "('Data Analyst',)\n",
      "('Allegro',)\n",
      "Warsaw\n"
     ]
    }
   ],
   "source": [
    "# Create the JobPostings class in this code cell\n",
    "class JobPosting:\n",
    "    def __init__(self, title, company, location, salary):\n",
    "        self.title = title\n",
    "        self.company = company\n",
    "        self.location = location\n",
    "        self.salary = salary\n",
    "    \n",
    "    def to_dict(self):\n",
    "        return {\n",
    "            'title': self.title,\n",
    "            'company': self.company,\n",
    "            'location': self.location,\n",
    "            'salary': self.salary\n",
    "        }\n",
    "\n",
    "job = JobPosting('Data Scientist', 'Tech Innovations', 'New York', 120000)\n",
    "\n",
    "print(job.to_dict())"
   ]
  },
  {
   "cell_type": "markdown",
   "id": "68c9b6ec",
   "metadata": {},
   "source": [
    "---"
   ]
  },
  {
   "cell_type": "markdown",
   "id": "65b80ffe",
   "metadata": {},
   "source": [
    "## 🟥 Compare Job Salaries (1.21.3)"
   ]
  },
  {
   "cell_type": "code",
   "execution_count": 7,
   "id": "5d5cf1bd",
   "metadata": {},
   "outputs": [
    {
     "name": "stdout",
     "output_type": "stream",
     "text": [
      "Data Scientist\n"
     ]
    }
   ],
   "source": [
    "# Create the JobPostings class in this code cell\n",
    "class JobPosting:\n",
    "    def __init__(self, title, company, location, salary):\n",
    "        self.title = title\n",
    "        self.company = company\n",
    "        self.location = location\n",
    "        self.salary = salary\n",
    "    \n",
    "    def compare_salary(self, other_job):\n",
    "        if self.salary > other_job.salary:\n",
    "            return self.title\n",
    "        else:\n",
    "            return other_job.title\n",
    "\n",
    "job1 = JobPosting('Data Scientist', 'Tech Innovations', 'New York', 120000)\n",
    "job2 = JobPosting('Data Analyst', 'Data Driven Co', 'San Francisco', 100000)\n",
    "print(job1.compare_salary(job2))"
   ]
  },
  {
   "cell_type": "code",
   "execution_count": null,
   "id": "5a6b25e4",
   "metadata": {},
   "outputs": [],
   "source": [
    "# Code Needed\n",
    "job1 = JobPosting('Data Scientist', 'Tech Innovations', 'New York', 120000)\n",
    "job2 = JobPosting('Data Analyst', 'Data Driven Co', 'San Francisco', 100000)"
   ]
  },
  {
   "cell_type": "markdown",
   "id": "0f083bf1",
   "metadata": {},
   "source": [
    "---"
   ]
  }
 ],
 "metadata": {
  "kernelspec": {
   "display_name": "Python 3",
   "language": "python",
   "name": "python3"
  },
  "language_info": {
   "codemirror_mode": {
    "name": "ipython",
    "version": 3
   },
   "file_extension": ".py",
   "mimetype": "text/x-python",
   "name": "python",
   "nbconvert_exporter": "python",
   "pygments_lexer": "ipython3",
   "version": "3.12.5"
  }
 },
 "nbformat": 4,
 "nbformat_minor": 5
}
