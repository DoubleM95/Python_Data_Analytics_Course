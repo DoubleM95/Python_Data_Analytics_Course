{
 "cells": [
  {
   "cell_type": "markdown",
   "id": "c938f726",
   "metadata": {},
   "source": [
    "<a target=\"_blank\" href=\"https://colab.research.google.com/github/lukebarousse/Python_Data_Analytics_Course/blob/main/4_Problems/2_04_Pandas Pivot Tables.ipynb\">\n",
    "  <img src=\"https://colab.research.google.com/assets/colab-badge.svg\" alt=\"Open In Colab\"/>\n",
    "</a>"
   ]
  },
  {
   "cell_type": "code",
   "execution_count": null,
   "id": "fa26b1fd",
   "metadata": {},
   "outputs": [],
   "source": [
    "import pandas as pd\n",
    "import matplotlib.pyplot as plt\n",
    "from datasets import load_dataset\n",
    "\n",
    "# Loading Data\n",
    "dataset = load_dataset('lukebarousse/data_jobs')\n",
    "df = dataset['train'].to_pandas()\n",
    "\n",
    "df['job_posted_date'] = pd.to_datetime(df['job_posted_date'])"
   ]
  },
  {
   "cell_type": "markdown",
   "id": "d4aeedce",
   "metadata": {},
   "source": [
    "## 🟩 Count Job Postings by Title and Country (2.4.1)"
   ]
  },
  {
   "cell_type": "code",
   "execution_count": 21,
   "id": "32f1208b",
   "metadata": {},
   "outputs": [
    {
     "data": {
      "application/vnd.microsoft.datawrangler.viewer.v0+json": {
       "columns": [
        {
         "name": "('job_title_short', 'job_country')",
         "rawType": "object",
         "type": "unknown"
        },
        {
         "name": "0",
         "rawType": "int64",
         "type": "integer"
        }
       ],
       "ref": "f224478b-4285-4bb1-8174-91b034c3a0fa",
       "rows": [
        [
         "('Business Analyst', 'Afghanistan')",
         "4"
        ],
        [
         "('Business Analyst', 'Albania')",
         "11"
        ],
        [
         "('Business Analyst', 'Algeria')",
         "21"
        ],
        [
         "('Business Analyst', 'Angola')",
         "1"
        ],
        [
         "('Business Analyst', 'Argentina')",
         "453"
        ],
        [
         "('Business Analyst', 'Armenia')",
         "29"
        ],
        [
         "('Business Analyst', 'Australia')",
         "928"
        ],
        [
         "('Business Analyst', 'Austria')",
         "738"
        ],
        [
         "('Business Analyst', 'Azerbaijan')",
         "16"
        ],
        [
         "('Business Analyst', 'Bahamas')",
         "5"
        ]
       ],
       "shape": {
        "columns": 1,
        "rows": 10
       }
      },
      "text/plain": [
       "job_title_short   job_country\n",
       "Business Analyst  Afghanistan      4\n",
       "                  Albania         11\n",
       "                  Algeria         21\n",
       "                  Angola           1\n",
       "                  Argentina      453\n",
       "                  Armenia         29\n",
       "                  Australia      928\n",
       "                  Austria        738\n",
       "                  Azerbaijan      16\n",
       "                  Bahamas          5\n",
       "dtype: int64"
      ]
     },
     "execution_count": 21,
     "metadata": {},
     "output_type": "execute_result"
    }
   ],
   "source": [
    "pivot_table = df.pivot_table(index=['job_title_short', 'job_country'], aggfunc='size')\n",
    "pivot_table.head(10)"
   ]
  },
  {
   "cell_type": "markdown",
   "id": "e4d809bb",
   "metadata": {},
   "source": [
    "---"
   ]
  },
  {
   "cell_type": "markdown",
   "id": "00be896a",
   "metadata": {},
   "source": [
    "## 🟨 Salary Stats by Job Title (2.4.2)"
   ]
  },
  {
   "cell_type": "code",
   "execution_count": 11,
   "id": "e8626e94",
   "metadata": {},
   "outputs": [
    {
     "data": {
      "application/vnd.microsoft.datawrangler.viewer.v0+json": {
       "columns": [
        {
         "name": "company_name",
         "rawType": "object",
         "type": "string"
        },
        {
         "name": "('max', 'salary_year_avg')",
         "rawType": "float64",
         "type": "float"
        },
        {
         "name": "('min', 'salary_year_avg')",
         "rawType": "float64",
         "type": "float"
        },
        {
         "name": "('mean', 'salary_year_avg')",
         "rawType": "float64",
         "type": "float"
        }
       ],
       "ref": "db5ad525-f32e-4b84-b128-2b17fd69f4ba",
       "rows": [
        [
         "#twiceasnice Recruiting",
         "120000.0",
         "61000.0",
         "77750.0"
        ],
        [
         "/dev/color",
         "125000.0",
         "125000.0",
         "125000.0"
        ],
        [
         "0nward Select",
         "92500.0",
         "92500.0",
         "92500.0"
        ],
        [
         "1 Point System",
         "137290.484375",
         "137290.484375",
         "137290.484375"
        ],
        [
         "1 Point System LLC.",
         "170000.0",
         "170000.0",
         "170000.0"
        ]
       ],
       "shape": {
        "columns": 3,
        "rows": 5
       }
      },
      "text/html": [
       "<div>\n",
       "<style scoped>\n",
       "    .dataframe tbody tr th:only-of-type {\n",
       "        vertical-align: middle;\n",
       "    }\n",
       "\n",
       "    .dataframe tbody tr th {\n",
       "        vertical-align: top;\n",
       "    }\n",
       "\n",
       "    .dataframe thead tr th {\n",
       "        text-align: left;\n",
       "    }\n",
       "\n",
       "    .dataframe thead tr:last-of-type th {\n",
       "        text-align: right;\n",
       "    }\n",
       "</style>\n",
       "<table border=\"1\" class=\"dataframe\">\n",
       "  <thead>\n",
       "    <tr>\n",
       "      <th></th>\n",
       "      <th>max</th>\n",
       "      <th>min</th>\n",
       "      <th>mean</th>\n",
       "    </tr>\n",
       "    <tr>\n",
       "      <th></th>\n",
       "      <th>salary_year_avg</th>\n",
       "      <th>salary_year_avg</th>\n",
       "      <th>salary_year_avg</th>\n",
       "    </tr>\n",
       "    <tr>\n",
       "      <th>company_name</th>\n",
       "      <th></th>\n",
       "      <th></th>\n",
       "      <th></th>\n",
       "    </tr>\n",
       "  </thead>\n",
       "  <tbody>\n",
       "    <tr>\n",
       "      <th>#twiceasnice Recruiting</th>\n",
       "      <td>120000.000000</td>\n",
       "      <td>61000.000000</td>\n",
       "      <td>77750.000000</td>\n",
       "    </tr>\n",
       "    <tr>\n",
       "      <th>/dev/color</th>\n",
       "      <td>125000.000000</td>\n",
       "      <td>125000.000000</td>\n",
       "      <td>125000.000000</td>\n",
       "    </tr>\n",
       "    <tr>\n",
       "      <th>0nward Select</th>\n",
       "      <td>92500.000000</td>\n",
       "      <td>92500.000000</td>\n",
       "      <td>92500.000000</td>\n",
       "    </tr>\n",
       "    <tr>\n",
       "      <th>1 Point System</th>\n",
       "      <td>137290.484375</td>\n",
       "      <td>137290.484375</td>\n",
       "      <td>137290.484375</td>\n",
       "    </tr>\n",
       "    <tr>\n",
       "      <th>1 Point System LLC.</th>\n",
       "      <td>170000.000000</td>\n",
       "      <td>170000.000000</td>\n",
       "      <td>170000.000000</td>\n",
       "    </tr>\n",
       "  </tbody>\n",
       "</table>\n",
       "</div>"
      ],
      "text/plain": [
       "                                    max             min            mean\n",
       "                        salary_year_avg salary_year_avg salary_year_avg\n",
       "company_name                                                           \n",
       "#twiceasnice Recruiting   120000.000000    61000.000000    77750.000000\n",
       "/dev/color                125000.000000   125000.000000   125000.000000\n",
       "0nward Select              92500.000000    92500.000000    92500.000000\n",
       "1 Point System            137290.484375   137290.484375   137290.484375\n",
       "1 Point System LLC.       170000.000000   170000.000000   170000.000000"
      ]
     },
     "execution_count": 11,
     "metadata": {},
     "output_type": "execute_result"
    }
   ],
   "source": [
    "df.pivot_table(values='salary_year_avg', index='company_name', aggfunc=['max', 'min', 'mean']).head()"
   ]
  },
  {
   "cell_type": "markdown",
   "id": "2dc1951b",
   "metadata": {},
   "source": [
    "---"
   ]
  },
  {
   "cell_type": "markdown",
   "id": "69a27730",
   "metadata": {},
   "source": [
    "## 🟥 Sum Salary by Title and Country (2.4.3)"
   ]
  },
  {
   "cell_type": "code",
   "execution_count": 26,
   "id": "2affb01f",
   "metadata": {},
   "outputs": [
    {
     "data": {
      "application/vnd.microsoft.datawrangler.viewer.v0+json": {
       "columns": [
        {
         "name": "index",
         "rawType": "int64",
         "type": "integer"
        },
        {
         "name": "company_name",
         "rawType": "object",
         "type": "string"
        },
        {
         "name": "job_country",
         "rawType": "object",
         "type": "string"
        },
        {
         "name": "salary_year_avg",
         "rawType": "float64",
         "type": "float"
        }
       ],
       "ref": "61de534e-5a0f-4726-a808-98d8c1836d55",
       "rows": [
        [
         "17",
         "ACT",
         "Sudan",
         "225000.0"
        ],
        [
         "18",
         "ACT",
         "United States",
         "225000.0"
        ],
        [
         "56",
         "Abbott",
         "United States",
         "204000.0"
        ],
        [
         "116",
         "Airbnb",
         "United States",
         "212500.0"
        ],
        [
         "117",
         "Airtable",
         "Sudan",
         "215500.0"
        ],
        [
         "118",
         "Airtable",
         "United States",
         "233500.0"
        ],
        [
         "132",
         "Algo Capital Group",
         "Sudan",
         "325000.0"
        ],
        [
         "133",
         "Algo Capital Group",
         "United States",
         "350000.0"
        ],
        [
         "162",
         "Amadeus Search",
         "United States",
         "232500.0"
        ],
        [
         "189",
         "Analog Devices, Inc",
         "United States",
         "375000.0"
        ]
       ],
       "shape": {
        "columns": 3,
        "rows": 10
       }
      },
      "text/html": [
       "<div>\n",
       "<style scoped>\n",
       "    .dataframe tbody tr th:only-of-type {\n",
       "        vertical-align: middle;\n",
       "    }\n",
       "\n",
       "    .dataframe tbody tr th {\n",
       "        vertical-align: top;\n",
       "    }\n",
       "\n",
       "    .dataframe thead th {\n",
       "        text-align: right;\n",
       "    }\n",
       "</style>\n",
       "<table border=\"1\" class=\"dataframe\">\n",
       "  <thead>\n",
       "    <tr style=\"text-align: right;\">\n",
       "      <th></th>\n",
       "      <th>company_name</th>\n",
       "      <th>job_country</th>\n",
       "      <th>salary_year_avg</th>\n",
       "    </tr>\n",
       "  </thead>\n",
       "  <tbody>\n",
       "    <tr>\n",
       "      <th>17</th>\n",
       "      <td>ACT</td>\n",
       "      <td>Sudan</td>\n",
       "      <td>225000.0</td>\n",
       "    </tr>\n",
       "    <tr>\n",
       "      <th>18</th>\n",
       "      <td>ACT</td>\n",
       "      <td>United States</td>\n",
       "      <td>225000.0</td>\n",
       "    </tr>\n",
       "    <tr>\n",
       "      <th>56</th>\n",
       "      <td>Abbott</td>\n",
       "      <td>United States</td>\n",
       "      <td>204000.0</td>\n",
       "    </tr>\n",
       "    <tr>\n",
       "      <th>116</th>\n",
       "      <td>Airbnb</td>\n",
       "      <td>United States</td>\n",
       "      <td>212500.0</td>\n",
       "    </tr>\n",
       "    <tr>\n",
       "      <th>117</th>\n",
       "      <td>Airtable</td>\n",
       "      <td>Sudan</td>\n",
       "      <td>215500.0</td>\n",
       "    </tr>\n",
       "    <tr>\n",
       "      <th>118</th>\n",
       "      <td>Airtable</td>\n",
       "      <td>United States</td>\n",
       "      <td>233500.0</td>\n",
       "    </tr>\n",
       "    <tr>\n",
       "      <th>132</th>\n",
       "      <td>Algo Capital Group</td>\n",
       "      <td>Sudan</td>\n",
       "      <td>325000.0</td>\n",
       "    </tr>\n",
       "    <tr>\n",
       "      <th>133</th>\n",
       "      <td>Algo Capital Group</td>\n",
       "      <td>United States</td>\n",
       "      <td>350000.0</td>\n",
       "    </tr>\n",
       "    <tr>\n",
       "      <th>162</th>\n",
       "      <td>Amadeus Search</td>\n",
       "      <td>United States</td>\n",
       "      <td>232500.0</td>\n",
       "    </tr>\n",
       "    <tr>\n",
       "      <th>189</th>\n",
       "      <td>Analog Devices, Inc</td>\n",
       "      <td>United States</td>\n",
       "      <td>375000.0</td>\n",
       "    </tr>\n",
       "  </tbody>\n",
       "</table>\n",
       "</div>"
      ],
      "text/plain": [
       "            company_name    job_country  salary_year_avg\n",
       "17                   ACT          Sudan         225000.0\n",
       "18                   ACT  United States         225000.0\n",
       "56                Abbott  United States         204000.0\n",
       "116               Airbnb  United States         212500.0\n",
       "117             Airtable          Sudan         215500.0\n",
       "118             Airtable  United States         233500.0\n",
       "132   Algo Capital Group          Sudan         325000.0\n",
       "133   Algo Capital Group  United States         350000.0\n",
       "162       Amadeus Search  United States         232500.0\n",
       "189  Analog Devices, Inc  United States         375000.0"
      ]
     },
     "execution_count": 26,
     "metadata": {},
     "output_type": "execute_result"
    }
   ],
   "source": [
    "pivot_table = df[df['job_title_short'] == 'Data Scientist'].pivot_table(values='salary_year_avg', index=['company_name', 'job_country'], aggfunc='median')\n",
    "pivot_table = pivot_table.reset_index()\n",
    "pivot_table = pivot_table[pivot_table['salary_year_avg'] > 200000]\n",
    "pivot_table.head(10)"
   ]
  },
  {
   "cell_type": "markdown",
   "id": "a358d02d",
   "metadata": {},
   "source": [
    "---"
   ]
  }
 ],
 "metadata": {
  "kernelspec": {
   "display_name": "Python 3",
   "language": "python",
   "name": "python3"
  },
  "language_info": {
   "codemirror_mode": {
    "name": "ipython",
    "version": 3
   },
   "file_extension": ".py",
   "mimetype": "text/x-python",
   "name": "python",
   "nbconvert_exporter": "python",
   "pygments_lexer": "ipython3",
   "version": "3.12.5"
  }
 },
 "nbformat": 4,
 "nbformat_minor": 5
}
