{
 "cells": [
  {
   "cell_type": "markdown",
   "id": "1324a683",
   "metadata": {},
   "source": [
    "<a target=\"_blank\" href=\"https://colab.research.google.com/github/lukebarousse/Python_Data_Analytics_Course/blob/main/4_Problems/1_08_Lists.ipynb\">\n",
    "  <img src=\"https://colab.research.google.com/assets/colab-badge.svg\" alt=\"Open In Colab\"/>\n",
    "</a>"
   ]
  },
  {
   "cell_type": "markdown",
   "id": "1838d998",
   "metadata": {},
   "source": [
    "## 🟩 Access Second Job Title (1.8.1)"
   ]
  },
  {
   "cell_type": "code",
   "execution_count": 1,
   "id": "1985369d",
   "metadata": {},
   "outputs": [
    {
     "data": {
      "text/plain": [
       "'Data Analyst'"
      ]
     },
     "execution_count": 1,
     "metadata": {},
     "output_type": "execute_result"
    }
   ],
   "source": [
    "# Code Needed\n",
    "job_titles = ['Data Scientist', 'Data Analyst', 'Machine Learning Engineer']\n",
    "job_titles[1]"
   ]
  },
  {
   "cell_type": "markdown",
   "id": "51c4691d",
   "metadata": {},
   "source": [
    "---"
   ]
  },
  {
   "cell_type": "markdown",
   "id": "845d3703",
   "metadata": {},
   "source": [
    "## 🟩 Change Third Job Title (1.8.2)"
   ]
  },
  {
   "cell_type": "code",
   "execution_count": 4,
   "id": "ec22c646",
   "metadata": {},
   "outputs": [
    {
     "data": {
      "text/plain": [
       "['Data Scientist', 'Data Analyst', 'AI Specialist']"
      ]
     },
     "execution_count": 4,
     "metadata": {},
     "output_type": "execute_result"
    }
   ],
   "source": [
    "# Code Needed\n",
    "job_titles = ['Data Scientist', 'Data Analyst', 'Machine Learning Engineer']\n",
    "job_titles[-1] = 'AI Specialist'\n",
    "job_titles"
   ]
  },
  {
   "cell_type": "markdown",
   "id": "f0432a95",
   "metadata": {},
   "source": [
    "---"
   ]
  },
  {
   "cell_type": "markdown",
   "id": "03761a20",
   "metadata": {},
   "source": [
    "## 🟩 Slice Job Titles List (1.8.3)"
   ]
  },
  {
   "cell_type": "code",
   "execution_count": 5,
   "id": "6e2440ca",
   "metadata": {},
   "outputs": [
    {
     "data": {
      "text/plain": [
       "['Data Scientist', 'Data Analyst']"
      ]
     },
     "execution_count": 5,
     "metadata": {},
     "output_type": "execute_result"
    }
   ],
   "source": [
    "# Code Needed\n",
    "job_titles = ['Data Scientist', 'Data Analyst', 'Machine Learning Engineer', 'Data Engineer']\n",
    "job_titles[:2]"
   ]
  },
  {
   "cell_type": "markdown",
   "id": "574cb0d1",
   "metadata": {},
   "source": [
    "---"
   ]
  },
  {
   "cell_type": "markdown",
   "id": "251109f7",
   "metadata": {},
   "source": [
    "## 🟨 Append Job Title (1.8.4)"
   ]
  },
  {
   "cell_type": "code",
   "execution_count": 7,
   "id": "fa121574",
   "metadata": {},
   "outputs": [
    {
     "data": {
      "text/plain": [
       "['Data Scientist',\n",
       " 'Data Analyst',\n",
       " 'Machine Learning Engineer',\n",
       " 'Data Engineer']"
      ]
     },
     "execution_count": 7,
     "metadata": {},
     "output_type": "execute_result"
    }
   ],
   "source": [
    "# Code Needed\n",
    "job_titles = ['Data Scientist', 'Data Analyst', 'Machine Learning Engineer']\n",
    "job_titles.append('Data Engineer')\n",
    "job_titles"
   ]
  },
  {
   "cell_type": "markdown",
   "id": "af25c586",
   "metadata": {},
   "source": [
    "---"
   ]
  },
  {
   "cell_type": "markdown",
   "id": "e5b2814d",
   "metadata": {},
   "source": [
    "## 🟨 Insert Job Title (1.8.5)"
   ]
  },
  {
   "cell_type": "code",
   "execution_count": 8,
   "id": "82ac8332",
   "metadata": {},
   "outputs": [
    {
     "data": {
      "text/plain": [
       "['Data Scientist',\n",
       " 'Business Analyst',\n",
       " 'Data Analyst',\n",
       " 'Machine Learning Engineer']"
      ]
     },
     "execution_count": 8,
     "metadata": {},
     "output_type": "execute_result"
    }
   ],
   "source": [
    "# Code Needed\n",
    "job_titles = ['Data Scientist', 'Data Analyst', 'Machine Learning Engineer']\n",
    "job_titles.insert(1, 'Business Analyst')\n",
    "job_titles"
   ]
  },
  {
   "cell_type": "markdown",
   "id": "5c04345c",
   "metadata": {},
   "source": [
    "---"
   ]
  }
 ],
 "metadata": {
  "kernelspec": {
   "display_name": "Python 3",
   "language": "python",
   "name": "python3"
  },
  "language_info": {
   "codemirror_mode": {
    "name": "ipython",
    "version": 3
   },
   "file_extension": ".py",
   "mimetype": "text/x-python",
   "name": "python",
   "nbconvert_exporter": "python",
   "pygments_lexer": "ipython3",
   "version": "3.12.5"
  }
 },
 "nbformat": 4,
 "nbformat_minor": 5
}
