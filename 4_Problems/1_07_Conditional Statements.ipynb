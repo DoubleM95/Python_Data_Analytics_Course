{
 "cells": [
  {
   "cell_type": "markdown",
   "id": "e3327670",
   "metadata": {},
   "source": [
    "<a target=\"_blank\" href=\"https://colab.research.google.com/github/lukebarousse/Python_Data_Analytics_Course/blob/main/4_Problems/1_07_Conditional Statements.ipynb\">\n",
    "  <img src=\"https://colab.research.google.com/assets/colab-badge.svg\" alt=\"Open In Colab\"/>\n",
    "</a>"
   ]
  },
  {
   "cell_type": "markdown",
   "id": "2aaa1761",
   "metadata": {},
   "source": [
    "## 🟩 Determine Python Experience (1.7.1)"
   ]
  },
  {
   "cell_type": "code",
   "execution_count": 1,
   "id": "9eaa2dc1",
   "metadata": {},
   "outputs": [
    {
     "data": {
      "text/plain": [
       "'Intermediate'"
      ]
     },
     "execution_count": 1,
     "metadata": {},
     "output_type": "execute_result"
    }
   ],
   "source": [
    "# Code Needed\n",
    "python_experience = 3\n",
    "\n",
    "'Beginner' if python_experience < 2 else 'Intermediate'"
   ]
  },
  {
   "cell_type": "markdown",
   "id": "e5985de7",
   "metadata": {},
   "source": [
    "---"
   ]
  },
  {
   "cell_type": "markdown",
   "id": "1d103802",
   "metadata": {},
   "source": [
    "## 🟨 Determine Job Skill Level (1.7.2)"
   ]
  },
  {
   "cell_type": "code",
   "execution_count": 7,
   "id": "bb543cdd",
   "metadata": {},
   "outputs": [
    {
     "data": {
      "text/plain": [
       "'Intermediate'"
      ]
     },
     "execution_count": 7,
     "metadata": {},
     "output_type": "execute_result"
    }
   ],
   "source": [
    "# Code Needed\n",
    "tools_known = 4\n",
    "\n",
    "'Beginner' if tools_known <= 1 else ('Intermediate' if tools_known <=4 else 'Advanced')"
   ]
  },
  {
   "cell_type": "markdown",
   "id": "fdf0324b",
   "metadata": {},
   "source": [
    "---"
   ]
  },
  {
   "cell_type": "markdown",
   "id": "847f3e27",
   "metadata": {},
   "source": [
    "## 🟥 Determine Job Title (1.7.3)"
   ]
  },
  {
   "cell_type": "code",
   "execution_count": 9,
   "id": "f73925e8",
   "metadata": {},
   "outputs": [
    {
     "data": {
      "text/plain": [
       "'Senior Analyst'"
      ]
     },
     "execution_count": 9,
     "metadata": {},
     "output_type": "execute_result"
    }
   ],
   "source": [
    "# Code Needed\n",
    "job_experience = 4\n",
    "sql_experience = 2\n",
    "\n",
    "if job_experience < 2:\n",
    "    if sql_experience == 0:\n",
    "        job_title = \"Associate Analyst\"\n",
    "    else:\n",
    "        job_title = \"Junior Analyst\"\n",
    "elif job_experience > 5:\n",
    "    if sql_experience >= 3:\n",
    "        job_title = \"Lead Analyst\"\n",
    "    else:\n",
    "        job_title = \"Data Analyst\"\n",
    "else:  # 2 to 5 years of experience\n",
    "    if sql_experience == 0:\n",
    "        job_title = \"Associate Analyst\"\n",
    "    elif sql_experience == 1:\n",
    "        job_title = \"Intermediate Analyst\"\n",
    "    else:\n",
    "        job_title = \"Senior Analyst\"\n",
    "        \n",
    "job_title        "
   ]
  },
  {
   "cell_type": "markdown",
   "id": "5a5189c6",
   "metadata": {},
   "source": [
    "---"
   ]
  }
 ],
 "metadata": {
  "kernelspec": {
   "display_name": "Python 3",
   "language": "python",
   "name": "python3"
  },
  "language_info": {
   "codemirror_mode": {
    "name": "ipython",
    "version": 3
   },
   "file_extension": ".py",
   "mimetype": "text/x-python",
   "name": "python",
   "nbconvert_exporter": "python",
   "pygments_lexer": "ipython3",
   "version": "3.12.5"
  }
 },
 "nbformat": 4,
 "nbformat_minor": 5
}
