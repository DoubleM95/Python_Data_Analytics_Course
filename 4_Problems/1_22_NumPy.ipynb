{
 "cells": [
  {
   "cell_type": "markdown",
   "id": "9135219d",
   "metadata": {},
   "source": [
    "<a target=\"_blank\" href=\"https://colab.research.google.com/github/lukebarousse/Python_Data_Analytics_Course/blob/main/4_Problems/1_22_NumPy.ipynb\">\n",
    "  <img src=\"https://colab.research.google.com/assets/colab-badge.svg\" alt=\"Open In Colab\"/>\n",
    "</a>"
   ]
  },
  {
   "cell_type": "markdown",
   "id": "bc778d7f",
   "metadata": {},
   "source": [
    "## 🟩 Create NumPy Array (1.22.1)"
   ]
  },
  {
   "cell_type": "code",
   "execution_count": 1,
   "id": "ca2df5b0",
   "metadata": {},
   "outputs": [],
   "source": [
    "import numpy as np"
   ]
  },
  {
   "cell_type": "code",
   "execution_count": 5,
   "id": "3b7e6275",
   "metadata": {},
   "outputs": [
    {
     "data": {
      "text/plain": [
       "array([10, 15,  7, 20, 25, 30,  5])"
      ]
     },
     "execution_count": 5,
     "metadata": {},
     "output_type": "execute_result"
    }
   ],
   "source": [
    "# Code Needed\n",
    "applications_list = [10, 15, 7, 20, 25, 30, 5]\n",
    "\n",
    "np_arr = np.array(applications_list)\n",
    "np_arr"
   ]
  },
  {
   "cell_type": "markdown",
   "id": "e3e3b88b",
   "metadata": {},
   "source": [
    "---"
   ]
  },
  {
   "cell_type": "markdown",
   "id": "4b3869b5",
   "metadata": {},
   "source": [
    "## 🟩 Slicing Array (1.22.2)"
   ]
  },
  {
   "cell_type": "code",
   "execution_count": 11,
   "id": "a3f8f040",
   "metadata": {},
   "outputs": [
    {
     "data": {
      "text/plain": [
       "array([10, 15,  7])"
      ]
     },
     "execution_count": 11,
     "metadata": {},
     "output_type": "execute_result"
    }
   ],
   "source": [
    "# Code Needed\n",
    "postings_list = [10, 15, 7, 20, 25, 30, 5]\n",
    "np_arr = np.array(postings_list)\n",
    "np_arr[:3]"
   ]
  },
  {
   "cell_type": "markdown",
   "id": "45a7a58a",
   "metadata": {},
   "source": [
    "---"
   ]
  },
  {
   "cell_type": "markdown",
   "id": "7b1ebbe9",
   "metadata": {},
   "source": [
    "## 🟨 Highest and Lowest Salary (1.22.3)"
   ]
  },
  {
   "cell_type": "code",
   "execution_count": 8,
   "id": "b62f9aed",
   "metadata": {},
   "outputs": [
    {
     "name": "stdout",
     "output_type": "stream",
     "text": [
      "min: 60000 | max: 95000\n"
     ]
    }
   ],
   "source": [
    "# Code Needed\n",
    "salaries_list = [70000, 85000, 60000, 95000, 80000]\n",
    "\n",
    "np_arr = np.array(salaries_list)\n",
    "print(f\"min: {np_arr.min()} | max: {np_arr.max()}\")"
   ]
  },
  {
   "cell_type": "markdown",
   "id": "65bf8796",
   "metadata": {},
   "source": [
    "---"
   ]
  }
 ],
 "metadata": {
  "kernelspec": {
   "display_name": "Python 3",
   "language": "python",
   "name": "python3"
  },
  "language_info": {
   "codemirror_mode": {
    "name": "ipython",
    "version": 3
   },
   "file_extension": ".py",
   "mimetype": "text/x-python",
   "name": "python",
   "nbconvert_exporter": "python",
   "pygments_lexer": "ipython3",
   "version": "3.12.5"
  }
 },
 "nbformat": 4,
 "nbformat_minor": 5
}
