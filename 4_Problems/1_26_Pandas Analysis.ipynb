{
 "cells": [
  {
   "cell_type": "markdown",
   "id": "40dec99e",
   "metadata": {},
   "source": [
    "<a target=\"_blank\" href=\"https://colab.research.google.com/github/lukebarousse/Python_Data_Analytics_Course/blob/main/4_Problems/1_26_Pandas Analysis.ipynb\">\n",
    "  <img src=\"https://colab.research.google.com/assets/colab-badge.svg\" alt=\"Open In Colab\"/>\n",
    "</a>"
   ]
  },
  {
   "cell_type": "code",
   "execution_count": null,
   "id": "eefc52a1",
   "metadata": {},
   "outputs": [],
   "source": [
    "import pandas as pd\n",
    "from datasets import load_dataset\n",
    "\n",
    "# Loading Data\n",
    "dataset = load_dataset('lukebarousse/data_jobs')\n",
    "df = dataset['train'].to_pandas()"
   ]
  },
  {
   "cell_type": "markdown",
   "id": "7844af8b",
   "metadata": {},
   "source": [
    "---"
   ]
  },
  {
   "cell_type": "markdown",
   "id": "5d733348",
   "metadata": {},
   "source": [
    "## 🟩 Calculate Mean Salary (1.26.1)"
   ]
  },
  {
   "cell_type": "code",
   "execution_count": 12,
   "id": "d9f8a257",
   "metadata": {},
   "outputs": [
    {
     "data": {
      "text/plain": [
       "np.float64(123286.27407182401)"
      ]
     },
     "execution_count": 12,
     "metadata": {},
     "output_type": "execute_result"
    }
   ],
   "source": [
    "df['salary_year_avg'].mean()"
   ]
  },
  {
   "cell_type": "markdown",
   "id": "c4e7d336",
   "metadata": {},
   "source": [
    "---"
   ]
  },
  {
   "cell_type": "markdown",
   "id": "d14016ea",
   "metadata": {},
   "source": [
    "## 🟩 Calculate Median Salary (1.26.2)"
   ]
  },
  {
   "cell_type": "code",
   "execution_count": 13,
   "id": "db0c7fc0",
   "metadata": {},
   "outputs": [
    {
     "data": {
      "text/plain": [
       "np.float64(115000.0)"
      ]
     },
     "execution_count": 13,
     "metadata": {},
     "output_type": "execute_result"
    }
   ],
   "source": [
    "df['salary_year_avg'].median()"
   ]
  },
  {
   "cell_type": "markdown",
   "id": "3cfe7676",
   "metadata": {},
   "source": [
    "---"
   ]
  },
  {
   "cell_type": "markdown",
   "id": "055273e7",
   "metadata": {},
   "source": [
    "## 🟨 Average Hourly Salary by Job Title (1.26.3)"
   ]
  },
  {
   "cell_type": "code",
   "execution_count": 14,
   "id": "92477f78",
   "metadata": {},
   "outputs": [
    {
     "data": {
      "application/vnd.microsoft.datawrangler.viewer.v0+json": {
       "columns": [
        {
         "name": "job_title_short",
         "rawType": "object",
         "type": "string"
        },
        {
         "name": "salary_hour_avg",
         "rawType": "float64",
         "type": "float"
        }
       ],
       "ref": "4f93eed6-7a2a-4f23-a705-6d341034d5e1",
       "rows": [
        [
         "Business Analyst",
         "42.723415013441105"
        ],
        [
         "Cloud Engineer",
         "45.56071454002743"
        ],
        [
         "Data Analyst",
         "38.1069175612817"
        ],
        [
         "Data Engineer",
         "57.19699813799215"
        ],
        [
         "Data Scientist",
         "49.36140274216343"
        ],
        [
         "Machine Learning Engineer",
         "48.47793479587721"
        ],
        [
         "Senior Data Analyst",
         "47.661218159597254"
        ],
        [
         "Senior Data Engineer",
         "62.84849632814492"
        ],
        [
         "Senior Data Scientist",
         "54.10563103309045"
        ],
        [
         "Software Engineer",
         "46.45201934300936"
        ]
       ],
       "shape": {
        "columns": 1,
        "rows": 10
       }
      },
      "text/plain": [
       "job_title_short\n",
       "Business Analyst             42.723415\n",
       "Cloud Engineer               45.560715\n",
       "Data Analyst                 38.106918\n",
       "Data Engineer                57.196998\n",
       "Data Scientist               49.361403\n",
       "Machine Learning Engineer    48.477935\n",
       "Senior Data Analyst          47.661218\n",
       "Senior Data Engineer         62.848496\n",
       "Senior Data Scientist        54.105631\n",
       "Software Engineer            46.452019\n",
       "Name: salary_hour_avg, dtype: float64"
      ]
     },
     "execution_count": 14,
     "metadata": {},
     "output_type": "execute_result"
    }
   ],
   "source": [
    "df.groupby('job_title_short')['salary_hour_avg'].mean()"
   ]
  },
  {
   "cell_type": "markdown",
   "id": "94fde84a",
   "metadata": {},
   "source": [
    "---"
   ]
  },
  {
   "cell_type": "markdown",
   "id": "016296cd",
   "metadata": {},
   "source": [
    "## 🟨 Job with Lowest Salary (1.26.4)"
   ]
  },
  {
   "cell_type": "code",
   "execution_count": 15,
   "id": "0692c4b3",
   "metadata": {},
   "outputs": [
    {
     "data": {
      "application/vnd.microsoft.datawrangler.viewer.v0+json": {
       "columns": [
        {
         "name": "index",
         "rawType": "object",
         "type": "string"
        },
        {
         "name": "665729",
         "rawType": "object",
         "type": "unknown"
        }
       ],
       "ref": "feb367ca-70df-4e86-8970-3b8930004d81",
       "rows": [
        [
         "job_title_short",
         "Data Engineer"
        ],
        [
         "salary_hour_avg",
         null
        ]
       ],
       "shape": {
        "columns": 1,
        "rows": 2
       }
      },
      "text/plain": [
       "job_title_short    Data Engineer\n",
       "salary_hour_avg              NaN\n",
       "Name: 665729, dtype: object"
      ]
     },
     "execution_count": 15,
     "metadata": {},
     "output_type": "execute_result"
    }
   ],
   "source": [
    "lowest_salary_job_id = df['salary_year_avg'].idxmin()\n",
    "df.iloc[lowest_salary_job_id][['job_title_short', 'salary_hour_avg']]"
   ]
  },
  {
   "cell_type": "markdown",
   "id": "7ee46dc2",
   "metadata": {},
   "source": [
    "---"
   ]
  },
  {
   "cell_type": "markdown",
   "id": "8d15c109",
   "metadata": {},
   "source": [
    "## 🟨 Job Count by Country (1.26.5)"
   ]
  },
  {
   "cell_type": "code",
   "execution_count": 16,
   "id": "d89edae3",
   "metadata": {},
   "outputs": [
    {
     "data": {
      "application/vnd.microsoft.datawrangler.viewer.v0+json": {
       "columns": [
        {
         "name": "job_country",
         "rawType": "object",
         "type": "string"
        },
        {
         "name": "0",
         "rawType": "int64",
         "type": "integer"
        }
       ],
       "ref": "61f50d00-e5c5-4f82-aaac-74b6c948f4c0",
       "rows": [
        [
         "Afghanistan",
         "16"
        ],
        [
         "Albania",
         "119"
        ],
        [
         "Algeria",
         "111"
        ],
        [
         "Angola",
         "11"
        ],
        [
         "Argentina",
         "8736"
        ],
        [
         "Armenia",
         "289"
        ],
        [
         "Australia",
         "12955"
        ],
        [
         "Austria",
         "9710"
        ],
        [
         "Azerbaijan",
         "83"
        ],
        [
         "Bahamas",
         "69"
        ],
        [
         "Bahrain",
         "353"
        ],
        [
         "Bangladesh",
         "284"
        ],
        [
         "Barbados",
         "20"
        ],
        [
         "Belarus",
         "543"
        ],
        [
         "Belgium",
         "12078"
        ],
        [
         "Benin",
         "42"
        ],
        [
         "Bhutan",
         "3"
        ],
        [
         "Bolivia",
         "60"
        ],
        [
         "Bosnia and Herzegovina",
         "48"
        ],
        [
         "Botswana",
         "27"
        ],
        [
         "Brazil",
         "7032"
        ],
        [
         "Brunei",
         "15"
        ],
        [
         "Bulgaria",
         "1236"
        ],
        [
         "Burkina Faso",
         "21"
        ],
        [
         "Cambodia",
         "78"
        ],
        [
         "Cameroon",
         "21"
        ],
        [
         "Canada",
         "16029"
        ],
        [
         "Cayman Islands",
         "21"
        ],
        [
         "Chile",
         "8118"
        ],
        [
         "China",
         "2534"
        ],
        [
         "Colombia",
         "7784"
        ],
        [
         "Congo, Democratic Republic of the",
         "41"
        ],
        [
         "Costa Rica",
         "6357"
        ],
        [
         "Croatia",
         "365"
        ],
        [
         "Curaçao",
         "7"
        ],
        [
         "Cyprus",
         "780"
        ],
        [
         "Czechia",
         "4553"
        ],
        [
         "Côte d'Ivoire",
         "53"
        ],
        [
         "Denmark",
         "6952"
        ],
        [
         "Djibouti",
         "8"
        ],
        [
         "Dominican Republic",
         "478"
        ],
        [
         "Ecuador",
         "656"
        ],
        [
         "Egypt",
         "2932"
        ],
        [
         "El Salvador",
         "126"
        ],
        [
         "Estonia",
         "576"
        ],
        [
         "Ethiopia",
         "93"
        ],
        [
         "Fiji",
         "12"
        ],
        [
         "Finland",
         "2564"
        ],
        [
         "France",
         "39922"
        ],
        [
         "Gambia",
         "5"
        ]
       ],
       "shape": {
        "columns": 1,
        "rows": 160
       }
      },
      "text/plain": [
       "job_country\n",
       "Afghanistan      16\n",
       "Albania         119\n",
       "Algeria         111\n",
       "Angola           11\n",
       "Argentina      8736\n",
       "               ... \n",
       "Venezuela        69\n",
       "Vietnam        2414\n",
       "Yemen            10\n",
       "Zambia          104\n",
       "Zimbabwe         81\n",
       "Length: 160, dtype: int64"
      ]
     },
     "execution_count": 16,
     "metadata": {},
     "output_type": "execute_result"
    }
   ],
   "source": [
    "df.groupby('job_country').size()"
   ]
  },
  {
   "cell_type": "markdown",
   "id": "6d5d0527",
   "metadata": {},
   "source": [
    "---"
   ]
  }
 ],
 "metadata": {
  "kernelspec": {
   "display_name": "Python 3",
   "language": "python",
   "name": "python3"
  },
  "language_info": {
   "codemirror_mode": {
    "name": "ipython",
    "version": 3
   },
   "file_extension": ".py",
   "mimetype": "text/x-python",
   "name": "python",
   "nbconvert_exporter": "python",
   "pygments_lexer": "ipython3",
   "version": "3.12.5"
  }
 },
 "nbformat": 4,
 "nbformat_minor": 5
}
