{
 "cells": [
  {
   "cell_type": "markdown",
   "id": "fb3e5a5f",
   "metadata": {},
   "source": [
    "<a target=\"_blank\" href=\"https://colab.research.google.com/github/lukebarousse/Python_Data_Analytics_Course/blob/main/4_Problems/1_17_Lambda.ipynb\">\n",
    "  <img src=\"https://colab.research.google.com/assets/colab-badge.svg\" alt=\"Open In Colab\"/>\n",
    "</a>"
   ]
  },
  {
   "cell_type": "markdown",
   "id": "d1f5cdd2",
   "metadata": {},
   "source": [
    "## 🟩 Calculate Average Salary (1.17.1)"
   ]
  },
  {
   "cell_type": "code",
   "execution_count": 1,
   "id": "d1091543",
   "metadata": {},
   "outputs": [
    {
     "data": {
      "text/plain": [
       "108000.0"
      ]
     },
     "execution_count": 1,
     "metadata": {},
     "output_type": "execute_result"
    }
   ],
   "source": [
    "# Code Needed\n",
    "salaries = [95000, 120000, 105000, 90000, 130000]\n",
    "\n",
    "avg_salary = lambda salaries: sum(salaries) / len(salaries)\n",
    "avg_salary(salaries)"
   ]
  },
  {
   "cell_type": "markdown",
   "id": "045da046",
   "metadata": {},
   "source": [
    "---"
   ]
  },
  {
   "cell_type": "markdown",
   "id": "5f3ad67e",
   "metadata": {},
   "source": [
    "## 🟨 Filter Job Titles (1.17.2)"
   ]
  },
  {
   "cell_type": "code",
   "execution_count": 10,
   "id": "cf09815a",
   "metadata": {},
   "outputs": [
    {
     "data": {
      "text/plain": [
       "['Data Scientist', 'Data Engineer', 'Data Analyst']"
      ]
     },
     "execution_count": 10,
     "metadata": {},
     "output_type": "execute_result"
    }
   ],
   "source": [
    "# Code Needed\n",
    "job_titles = ['Data Scientist', 'Data Engineer', 'Machine Learning Engineer', 'Data Analyst']\n",
    "\n",
    "contains_data = lambda job_title: 'Data' in job_title\n",
    "filtered_titles = list(filter(contains_data, job_titles))\n",
    "filtered_titles"
   ]
  },
  {
   "cell_type": "markdown",
   "id": "e43299da",
   "metadata": {},
   "source": [
    "---"
   ]
  },
  {
   "cell_type": "markdown",
   "id": "f0ba4566",
   "metadata": {},
   "source": [
    "## 🟥 Filter Remote Python Jobs (1.17.3)"
   ]
  },
  {
   "cell_type": "code",
   "execution_count": 1,
   "id": "3c4339b8",
   "metadata": {},
   "outputs": [
    {
     "data": {
      "text/plain": [
       "[{'title': 'Data Scientist', 'skills': ['Python', 'SQL'], 'remote': True},\n",
       " {'title': 'Machine Learning Engineer',\n",
       "  'skills': ['Python', 'TensorFlow'],\n",
       "  'remote': True}]"
      ]
     },
     "execution_count": 1,
     "metadata": {},
     "output_type": "execute_result"
    }
   ],
   "source": [
    "# Code Needed\n",
    "job_postings = [\n",
    "    {'title': 'Data Scientist', 'skills': ['Python', 'SQL'], 'remote': True},\n",
    "    {'title': 'Data Analyst', 'skills': ['Excel', 'SQL'], 'remote': False},\n",
    "    {'title': 'Machine Learning Engineer', 'skills': ['Python', 'TensorFlow'], 'remote': True},\n",
    "    {'title': 'Software Developer', 'skills': ['Java', 'C++'], 'remote': True}\n",
    "]\n",
    "\n",
    "filter_postings = lambda posting: 'Python' in posting['skills'] and posting['remote']\n",
    "remote_python_postings = list(filter(filter_postings, job_postings))\n",
    "remote_python_postings"
   ]
  },
  {
   "cell_type": "markdown",
   "id": "96baab4a",
   "metadata": {},
   "source": [
    "---"
   ]
  }
 ],
 "metadata": {
  "kernelspec": {
   "display_name": "Python 3",
   "language": "python",
   "name": "python3"
  },
  "language_info": {
   "codemirror_mode": {
    "name": "ipython",
    "version": 3
   },
   "file_extension": ".py",
   "mimetype": "text/x-python",
   "name": "python",
   "nbconvert_exporter": "python",
   "pygments_lexer": "ipython3",
   "version": "3.12.5"
  }
 },
 "nbformat": 4,
 "nbformat_minor": 5
}
