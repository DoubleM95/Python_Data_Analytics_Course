{
 "cells": [
  {
   "cell_type": "markdown",
   "id": "8ab55aca",
   "metadata": {},
   "source": [
    "<a target=\"_blank\" href=\"https://colab.research.google.com/github/lukebarousse/Python_Data_Analytics_Course/blob/main/4_Problems/1_06_Operators Part 1.ipynb\">\n",
    "  <img src=\"https://colab.research.google.com/assets/colab-badge.svg\" alt=\"Open In Colab\"/>\n",
    "</a>"
   ]
  },
  {
   "cell_type": "markdown",
   "id": "5c28e09e",
   "metadata": {},
   "source": [
    "## 🟩 Calculate Annual Salary (1.6.1)"
   ]
  },
  {
   "cell_type": "code",
   "execution_count": 1,
   "id": "f5eae247",
   "metadata": {},
   "outputs": [
    {
     "data": {
      "text/plain": [
       "96000"
      ]
     },
     "execution_count": 1,
     "metadata": {},
     "output_type": "execute_result"
    }
   ],
   "source": [
    "# Code Needed\n",
    "monthly_salary = 8000\n",
    "annual_salary = monthly_salary * 12\n",
    "annual_salary"
   ]
  },
  {
   "cell_type": "markdown",
   "id": "75a63b15",
   "metadata": {},
   "source": [
    "---"
   ]
  },
  {
   "cell_type": "markdown",
   "id": "9f50032f",
   "metadata": {},
   "source": [
    "## 🟩 Compare Salaries (1.6.2)"
   ]
  },
  {
   "cell_type": "code",
   "execution_count": 3,
   "id": "d74e5eec",
   "metadata": {},
   "outputs": [
    {
     "data": {
      "text/plain": [
       "False"
      ]
     },
     "execution_count": 3,
     "metadata": {},
     "output_type": "execute_result"
    }
   ],
   "source": [
    "# Code Needed\n",
    "avg_salary_analyst = 70000\n",
    "avg_salary_scientist = 85000\n",
    "\n",
    "avg_salary_analyst > avg_salary_scientist"
   ]
  },
  {
   "cell_type": "markdown",
   "id": "53cabe65",
   "metadata": {},
   "source": [
    "---"
   ]
  },
  {
   "cell_type": "markdown",
   "id": "a0898aab",
   "metadata": {},
   "source": [
    "## 🟨 Calculate Remainder (1.6.3)"
   ]
  },
  {
   "cell_type": "code",
   "execution_count": 4,
   "id": "97e2ce73",
   "metadata": {},
   "outputs": [
    {
     "data": {
      "text/plain": [
       "56"
      ]
     },
     "execution_count": 4,
     "metadata": {},
     "output_type": "execute_result"
    }
   ],
   "source": [
    "# Code Needed\n",
    "total_applications = 123\n",
    "job_openings = 67\n",
    "\n",
    "total_applications % job_openings"
   ]
  },
  {
   "cell_type": "markdown",
   "id": "f069d320",
   "metadata": {},
   "source": [
    "---"
   ]
  },
  {
   "cell_type": "markdown",
   "id": "45fb92ab",
   "metadata": {},
   "source": [
    "## 🟨 Increment Job Postings (1.6.4)"
   ]
  },
  {
   "cell_type": "code",
   "execution_count": 6,
   "id": "c05ce14e",
   "metadata": {},
   "outputs": [
    {
     "data": {
      "text/plain": [
       "25"
      ]
     },
     "execution_count": 6,
     "metadata": {},
     "output_type": "execute_result"
    }
   ],
   "source": [
    "# Code Needed\n",
    "job_postings = 20\n",
    "job_postings += 5\n",
    "job_postings"
   ]
  },
  {
   "cell_type": "markdown",
   "id": "c4bf5251",
   "metadata": {},
   "source": [
    "---"
   ]
  },
  {
   "cell_type": "markdown",
   "id": "ffe080db",
   "metadata": {},
   "source": [
    "## 🟨 Calculate Average Salary (1.6.5)"
   ]
  },
  {
   "cell_type": "code",
   "execution_count": 7,
   "id": "c5bb9dc1",
   "metadata": {},
   "outputs": [
    {
     "data": {
      "text/plain": [
       "85000.0"
      ]
     },
     "execution_count": 7,
     "metadata": {},
     "output_type": "execute_result"
    }
   ],
   "source": [
    "# Code Needed\n",
    "min_salary = 50000\n",
    "max_salary = 120000\n",
    "\n",
    "avg_salary = (min_salary + max_salary) / 2\n",
    "avg_salary"
   ]
  },
  {
   "cell_type": "markdown",
   "id": "156db404",
   "metadata": {},
   "source": [
    "---"
   ]
  }
 ],
 "metadata": {
  "kernelspec": {
   "display_name": "Python 3",
   "language": "python",
   "name": "python3"
  },
  "language_info": {
   "codemirror_mode": {
    "name": "ipython",
    "version": 3
   },
   "file_extension": ".py",
   "mimetype": "text/x-python",
   "name": "python",
   "nbconvert_exporter": "python",
   "pygments_lexer": "ipython3",
   "version": "3.12.5"
  }
 },
 "nbformat": 4,
 "nbformat_minor": 5
}
