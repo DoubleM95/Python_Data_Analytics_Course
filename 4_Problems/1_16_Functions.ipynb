{
 "cells": [
  {
   "cell_type": "markdown",
   "id": "47f7f9a6",
   "metadata": {},
   "source": [
    "<a target=\"_blank\" href=\"https://colab.research.google.com/github/lukebarousse/Python_Data_Analytics_Course/blob/main/4_Problems/1_16_Functions.ipynb\">\n",
    "  <img src=\"https://colab.research.google.com/assets/colab-badge.svg\" alt=\"Open In Colab\"/>\n",
    "</a>"
   ]
  },
  {
   "cell_type": "markdown",
   "id": "1db181cf",
   "metadata": {},
   "source": [
    "## 🟩 Job Title Contains (1.16.1)"
   ]
  },
  {
   "cell_type": "code",
   "execution_count": 2,
   "id": "740b79a1",
   "metadata": {},
   "outputs": [
    {
     "data": {
      "text/plain": [
       "True"
      ]
     },
     "execution_count": 2,
     "metadata": {},
     "output_type": "execute_result"
    }
   ],
   "source": [
    "# Code Needed\n",
    "job_title = 'Data Scientist'\n",
    "keyword = 'Data'\n",
    "\n",
    "def job_title_contains(job_title, keyword):\n",
    "    return keyword in job_title\n",
    "\n",
    "job_title_contains(job_title, keyword)"
   ]
  },
  {
   "cell_type": "markdown",
   "id": "1732d805",
   "metadata": {},
   "source": [
    "---"
   ]
  },
  {
   "cell_type": "markdown",
   "id": "14e34822",
   "metadata": {},
   "source": [
    "## 🟩 Average Salary (1.16.2)"
   ]
  },
  {
   "cell_type": "code",
   "execution_count": 4,
   "id": "7662927c",
   "metadata": {},
   "outputs": [
    {
     "data": {
      "text/plain": [
       "108000.0"
      ]
     },
     "execution_count": 4,
     "metadata": {},
     "output_type": "execute_result"
    }
   ],
   "source": [
    "# Code Needed\n",
    "salaries = [95000, 120000, 105000, 90000, 130000]\n",
    "\n",
    "def average_salary(salaries):\n",
    "    return sum(salaries) / len(salaries)\n",
    "\n",
    "average_salary(salaries)    \n",
    "        "
   ]
  },
  {
   "cell_type": "markdown",
   "id": "1e9a1c7b",
   "metadata": {},
   "source": [
    "---"
   ]
  },
  {
   "cell_type": "markdown",
   "id": "21247fbc",
   "metadata": {},
   "source": [
    "## 🟨 Salary Statistics (1.16.3)"
   ]
  },
  {
   "cell_type": "code",
   "execution_count": 5,
   "id": "a1b6cf11",
   "metadata": {},
   "outputs": [
    {
     "data": {
      "text/plain": [
       "{'min': 90000, 'max': 130000, 'average': 108000.0}"
      ]
     },
     "execution_count": 5,
     "metadata": {},
     "output_type": "execute_result"
    }
   ],
   "source": [
    "# Code Needed\n",
    "def salary_statistics(salaries):\n",
    "    return {\n",
    "        'min': min(salaries),\n",
    "        'max': max(salaries),\n",
    "        'average': sum(salaries) / len(salaries)\n",
    "    }\n",
    "\n",
    "salaries = [95000, 120000, 105000, 90000, 130000]\n",
    "salary_statistics(salaries)"
   ]
  },
  {
   "cell_type": "markdown",
   "id": "99eed404",
   "metadata": {},
   "source": [
    "---"
   ]
  },
  {
   "cell_type": "markdown",
   "id": "e833849f",
   "metadata": {},
   "source": [
    "## 🟥 Job Posting Summary (1.16.4)"
   ]
  },
  {
   "cell_type": "code",
   "execution_count": 7,
   "id": "cb857ad6",
   "metadata": {},
   "outputs": [
    {
     "data": {
      "text/plain": [
       "{'total_postings': 3,\n",
       " 'average_salary': 98333.33333333333,\n",
       " 'unique_locations': ['New York', 'San Francisco']}"
      ]
     },
     "execution_count": 7,
     "metadata": {},
     "output_type": "execute_result"
    }
   ],
   "source": [
    "# Code Needed\n",
    "job_postings = [\n",
    "    {'title': 'Data Scientist', 'location': 'New York', 'salary': 95000},\n",
    "    {'title': 'Data Analyst', 'location': 'San Francisco', 'salary': 85000},\n",
    "    {'title': 'Machine Learning Engineer', 'location': 'New York', 'salary': 115000}\n",
    "]\n",
    "\n",
    "def job_posting_summary(job_postings):\n",
    "    total_postings = len(job_postings)\n",
    "    total_salary = sum(posting['salary'] for posting in job_postings)\n",
    "    average_salary = total_salary / total_postings\n",
    "    unique_locations = list(set(posting['location'] for posting in job_postings))\n",
    "    return {\n",
    "        'total_postings': total_postings,\n",
    "        'average_salary': average_salary,\n",
    "        'unique_locations': unique_locations\n",
    "    }\n",
    "    \n",
    "job_posting_summary(job_postings)  \n",
    "\n"
   ]
  },
  {
   "cell_type": "markdown",
   "id": "8b082c95",
   "metadata": {},
   "source": [
    "---"
   ]
  }
 ],
 "metadata": {
  "kernelspec": {
   "display_name": "Python 3",
   "language": "python",
   "name": "python3"
  },
  "language_info": {
   "codemirror_mode": {
    "name": "ipython",
    "version": 3
   },
   "file_extension": ".py",
   "mimetype": "text/x-python",
   "name": "python",
   "nbconvert_exporter": "python",
   "pygments_lexer": "ipython3",
   "version": "3.12.5"
  }
 },
 "nbformat": 4,
 "nbformat_minor": 5
}
